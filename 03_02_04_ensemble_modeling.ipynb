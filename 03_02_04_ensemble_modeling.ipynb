{
 "cells": [
  {
   "cell_type": "markdown",
   "metadata": {},
   "source": [
    "## Ensemble Models\n",
    "\n",
    "- Models that are made up of other models\n",
    "- Combines component models to generate a single prediction\n",
    "- Component models often simpler than would be necessary to predict outcomes on their own\n",
    "- Random Forest sub models are Decision Trees"
   ]
  },
  {
   "cell_type": "markdown",
   "metadata": {},
   "source": [
    "## Methods of Ensemble Modeling\n",
    "\n",
    "__Bagging:__\n",
    "- Take subsets of data and train a model on each subset\n",
    "- Subsets vote simultaneously on the outcome, either taking majority (mode) or mean\n",
    "- Random Forest most popular bagging technique\n",
    "\n",
    "__Boosting:__\n",
    "- Uses the output of one model as input into the next in a form of serial processing\n",
    "- Models then get daisy chained sequentially until a stopping condition is met\n",
    "\n",
    "__Stacking:__\n",
    "- Two phase process, hybrid of bagging and boosting\n",
    "- First phase: models are trained in parallel (bagging)\n",
    "- Second phase: trained models are used as inputs into the final model (boosting)"
   ]
  },
  {
   "cell_type": "markdown",
   "metadata": {},
   "source": [
    "## Advantages and Disadvantages\n",
    "\n",
    "__Advantages:__\n",
    "- Often some of the most accurate techniques to apply to a problem\n",
    "- Tend to have low variance because built from multiple internal models\n",
    "\n",
    "__Disadvantages:__\n",
    "- Some techniques are prone to overfitting (especially boosting)\n",
    "- Lose a lot of transparency that individual models offer"
   ]
  },
  {
   "cell_type": "code",
   "execution_count": null,
   "metadata": {},
   "outputs": [],
   "source": []
  }
 ],
 "metadata": {
  "kernelspec": {
   "display_name": "Python 3",
   "language": "python",
   "name": "python3"
  },
  "language_info": {
   "codemirror_mode": {
    "name": "ipython",
    "version": 3
   },
   "file_extension": ".py",
   "mimetype": "text/x-python",
   "name": "python",
   "nbconvert_exporter": "python",
   "pygments_lexer": "ipython3",
   "version": "3.6.4"
  }
 },
 "nbformat": 4,
 "nbformat_minor": 2
}
