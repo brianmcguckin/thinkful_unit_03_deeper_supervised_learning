{
 "cells": [
  {
   "cell_type": "code",
   "execution_count": 1,
   "metadata": {},
   "outputs": [],
   "source": [
    "import numpy as np\n",
    "import pandas as pd\n",
    "import scipy\n",
    "import matplotlib.pyplot as plt\n",
    "import seaborn as sns\n",
    "import time\n",
    "%matplotlib inline"
   ]
  },
  {
   "cell_type": "markdown",
   "metadata": {},
   "source": [
    "### Data Cleaning"
   ]
  },
  {
   "cell_type": "code",
   "execution_count": 2,
   "metadata": {},
   "outputs": [
    {
     "name": "stdout",
     "output_type": "stream",
     "text": [
      "0    284315\n",
      "1       492\n",
      "Name: Class, dtype: int64\n",
      "31\n"
     ]
    }
   ],
   "source": [
    "df = pd.read_csv('creditcard.csv')\n",
    "print(df['Class'].value_counts())\n",
    "print(len(df.columns))"
   ]
  },
  {
   "cell_type": "markdown",
   "metadata": {},
   "source": [
    "Target is very unbalanced, need to address this"
   ]
  },
  {
   "cell_type": "markdown",
   "metadata": {},
   "source": [
    "#### Class Imbalance"
   ]
  },
  {
   "cell_type": "code",
   "execution_count": 13,
   "metadata": {},
   "outputs": [
    {
     "name": "stdout",
     "output_type": "stream",
     "text": [
      "Upsampled class counts:\n",
      "1    284315\n",
      "0    284315\n",
      "Name: Class, dtype: int64\n"
     ]
    }
   ],
   "source": [
    "#try sklearn upsample (randomly duplicating obvs from minority class)\n",
    "from sklearn.utils import resample\n",
    "\n",
    "#separate majority and minority classes\n",
    "df_majority = df[df.Class==0]\n",
    "df_minority = df[df.Class==1]\n",
    "\n",
    "#upsample minority class\n",
    "df_minority_upsampled = resample(df_minority, replace=True, n_samples=284315)\n",
    "\n",
    "#combine with majority class\n",
    "df_upsampled = pd.concat([df_majority, df_minority_upsampled])\n",
    "print('Upsampled class counts:')\n",
    "print(df_upsampled.Class.value_counts())\n",
    "\n",
    "#set data and target\n",
    "X_up = df_upsampled.drop('Class', 1)\n",
    "y_up = df_upsampled['Class']\n",
    "\n",
    "#set training and test sets\n",
    "offset = int(X_up.shape[0] * 0.9)\n",
    "X_up_train, y_up_train = X_up[:offset], y_up[:offset]\n",
    "X_up_test, y_up_test = X_up[offset:], y_up[offset:]"
   ]
  },
  {
   "cell_type": "code",
   "execution_count": 4,
   "metadata": {},
   "outputs": [],
   "source": [
    "#also downsample (remove random obvs from majority class) to compare results\n",
    "df_majority_downsampled = resample(df_majority, replace=False, n_samples=492)\n",
    "df_downsampled = pd.concat([df_majority_downsampled, df_minority])\n",
    "df_downsampled.Class.value_counts()\n",
    "\n",
    "#set data and target\n",
    "X_down = df_downsampled.drop('Class', 1)\n",
    "y_down = df_downsampled['Class']"
   ]
  },
  {
   "cell_type": "markdown",
   "metadata": {},
   "source": [
    "#### Feature Selection"
   ]
  },
  {
   "cell_type": "code",
   "execution_count": 6,
   "metadata": {},
   "outputs": [
    {
     "name": "stdout",
     "output_type": "stream",
     "text": [
      "5 kbest features:\n",
      "['V4', 'V10', 'V11', 'V12', 'V14']\n"
     ]
    }
   ],
   "source": [
    "#selectkbest on upsampled df\n",
    "from sklearn.pipeline import make_pipeline\n",
    "from sklearn.feature_selection import SelectKBest, f_classif\n",
    "import warnings\n",
    "warnings.filterwarnings('ignore')\n",
    "\n",
    "kbest = SelectKBest(f_classif, k=5) #instantiate\n",
    "kbest.fit(X_up, y_up) #fit \n",
    "mask_up = kbest.get_support()\n",
    "features_up = []\n",
    "for bool, feature in zip(mask_up, X_up.columns):\n",
    "    if bool:\n",
    "        features_up.append(feature)\n",
    "print('5 kbest features:')\n",
    "print(features_up)\n",
    "\n",
    "X_kbest = df_upsampled[features_up]\n",
    "X_kbest_train, X_kbest_test = X_kbest[:offset], X_kbest[offset:]"
   ]
  },
  {
   "cell_type": "markdown",
   "metadata": {},
   "source": [
    "### Models to try:\n",
    "- Random Forest\n",
    "- Support Vector\n",
    "- Gradient Boost"
   ]
  },
  {
   "cell_type": "markdown",
   "metadata": {},
   "source": [
    "### Random Forest"
   ]
  },
  {
   "cell_type": "code",
   "execution_count": 8,
   "metadata": {},
   "outputs": [
    {
     "name": "stdout",
     "output_type": "stream",
     "text": [
      "[0.99910116 1.         0.99985345 0.99996092 0.9039696 ]\n"
     ]
    }
   ],
   "source": [
    "from sklearn import ensemble\n",
    "from sklearn.model_selection import cross_val_score\n",
    "\n",
    "rfc = ensemble.RandomForestClassifier()\n",
    "rfc.fit(X_up_train, y_up_train)\n",
    "scores_train = cross_val_score(rfc, X_up_train, y_up_train, cv=5)\n",
    "print(scores_train)"
   ]
  },
  {
   "cell_type": "code",
   "execution_count": 9,
   "metadata": {},
   "outputs": [
    {
     "name": "stdout",
     "output_type": "stream",
     "text": [
      "[1. 1. 1. 1. 1.]\n"
     ]
    }
   ],
   "source": [
    "scores_test = cross_val_score(rfc, X_up_test, y_up_test, cv=5)\n",
    "print(scores_test)"
   ]
  },
  {
   "cell_type": "code",
   "execution_count": 12,
   "metadata": {},
   "outputs": [
    {
     "ename": "ValueError",
     "evalue": "Only one class present in y_true. ROC AUC score is not defined in that case.",
     "output_type": "error",
     "traceback": [
      "\u001b[0;31m---------------------------------------------------------------------------\u001b[0m",
      "\u001b[0;31mValueError\u001b[0m                                Traceback (most recent call last)",
      "\u001b[0;32m<ipython-input-12-1ceb3ec92deb>\u001b[0m in \u001b[0;36m<module>\u001b[0;34m()\u001b[0m\n\u001b[1;32m      1\u001b[0m \u001b[0;32mfrom\u001b[0m \u001b[0msklearn\u001b[0m\u001b[0;34m.\u001b[0m\u001b[0mmetrics\u001b[0m \u001b[0;32mimport\u001b[0m \u001b[0mroc_auc_score\u001b[0m\u001b[0;34m\u001b[0m\u001b[0m\n\u001b[1;32m      2\u001b[0m \u001b[0my_pred\u001b[0m \u001b[0;34m=\u001b[0m \u001b[0mrfc\u001b[0m\u001b[0;34m.\u001b[0m\u001b[0mpredict\u001b[0m\u001b[0;34m(\u001b[0m\u001b[0mX_up_test\u001b[0m\u001b[0;34m)\u001b[0m\u001b[0;34m\u001b[0m\u001b[0m\n\u001b[0;32m----> 3\u001b[0;31m \u001b[0mprint\u001b[0m\u001b[0;34m(\u001b[0m\u001b[0mroc_auc_score\u001b[0m\u001b[0;34m(\u001b[0m\u001b[0my_up_test\u001b[0m\u001b[0;34m,\u001b[0m \u001b[0my_pred\u001b[0m\u001b[0;34m)\u001b[0m\u001b[0;34m)\u001b[0m\u001b[0;34m\u001b[0m\u001b[0m\n\u001b[0m",
      "\u001b[0;32m/anaconda3/lib/python3.6/site-packages/sklearn/metrics/ranking.py\u001b[0m in \u001b[0;36mroc_auc_score\u001b[0;34m(y_true, y_score, average, sample_weight)\u001b[0m\n\u001b[1;32m    275\u001b[0m     return _average_binary_score(\n\u001b[1;32m    276\u001b[0m         \u001b[0m_binary_roc_auc_score\u001b[0m\u001b[0;34m,\u001b[0m \u001b[0my_true\u001b[0m\u001b[0;34m,\u001b[0m \u001b[0my_score\u001b[0m\u001b[0;34m,\u001b[0m \u001b[0maverage\u001b[0m\u001b[0;34m,\u001b[0m\u001b[0;34m\u001b[0m\u001b[0m\n\u001b[0;32m--> 277\u001b[0;31m         sample_weight=sample_weight)\n\u001b[0m\u001b[1;32m    278\u001b[0m \u001b[0;34m\u001b[0m\u001b[0m\n\u001b[1;32m    279\u001b[0m \u001b[0;34m\u001b[0m\u001b[0m\n",
      "\u001b[0;32m/anaconda3/lib/python3.6/site-packages/sklearn/metrics/base.py\u001b[0m in \u001b[0;36m_average_binary_score\u001b[0;34m(binary_metric, y_true, y_score, average, sample_weight)\u001b[0m\n\u001b[1;32m     73\u001b[0m \u001b[0;34m\u001b[0m\u001b[0m\n\u001b[1;32m     74\u001b[0m     \u001b[0;32mif\u001b[0m \u001b[0my_type\u001b[0m \u001b[0;34m==\u001b[0m \u001b[0;34m\"binary\"\u001b[0m\u001b[0;34m:\u001b[0m\u001b[0;34m\u001b[0m\u001b[0m\n\u001b[0;32m---> 75\u001b[0;31m         \u001b[0;32mreturn\u001b[0m \u001b[0mbinary_metric\u001b[0m\u001b[0;34m(\u001b[0m\u001b[0my_true\u001b[0m\u001b[0;34m,\u001b[0m \u001b[0my_score\u001b[0m\u001b[0;34m,\u001b[0m \u001b[0msample_weight\u001b[0m\u001b[0;34m=\u001b[0m\u001b[0msample_weight\u001b[0m\u001b[0;34m)\u001b[0m\u001b[0;34m\u001b[0m\u001b[0m\n\u001b[0m\u001b[1;32m     76\u001b[0m \u001b[0;34m\u001b[0m\u001b[0m\n\u001b[1;32m     77\u001b[0m     \u001b[0mcheck_consistent_length\u001b[0m\u001b[0;34m(\u001b[0m\u001b[0my_true\u001b[0m\u001b[0;34m,\u001b[0m \u001b[0my_score\u001b[0m\u001b[0;34m,\u001b[0m \u001b[0msample_weight\u001b[0m\u001b[0;34m)\u001b[0m\u001b[0;34m\u001b[0m\u001b[0m\n",
      "\u001b[0;32m/anaconda3/lib/python3.6/site-packages/sklearn/metrics/ranking.py\u001b[0m in \u001b[0;36m_binary_roc_auc_score\u001b[0;34m(y_true, y_score, sample_weight)\u001b[0m\n\u001b[1;32m    266\u001b[0m     \u001b[0;32mdef\u001b[0m \u001b[0m_binary_roc_auc_score\u001b[0m\u001b[0;34m(\u001b[0m\u001b[0my_true\u001b[0m\u001b[0;34m,\u001b[0m \u001b[0my_score\u001b[0m\u001b[0;34m,\u001b[0m \u001b[0msample_weight\u001b[0m\u001b[0;34m=\u001b[0m\u001b[0;32mNone\u001b[0m\u001b[0;34m)\u001b[0m\u001b[0;34m:\u001b[0m\u001b[0;34m\u001b[0m\u001b[0m\n\u001b[1;32m    267\u001b[0m         \u001b[0;32mif\u001b[0m \u001b[0mlen\u001b[0m\u001b[0;34m(\u001b[0m\u001b[0mnp\u001b[0m\u001b[0;34m.\u001b[0m\u001b[0munique\u001b[0m\u001b[0;34m(\u001b[0m\u001b[0my_true\u001b[0m\u001b[0;34m)\u001b[0m\u001b[0;34m)\u001b[0m \u001b[0;34m!=\u001b[0m \u001b[0;36m2\u001b[0m\u001b[0;34m:\u001b[0m\u001b[0;34m\u001b[0m\u001b[0m\n\u001b[0;32m--> 268\u001b[0;31m             raise ValueError(\"Only one class present in y_true. ROC AUC score \"\n\u001b[0m\u001b[1;32m    269\u001b[0m                              \"is not defined in that case.\")\n\u001b[1;32m    270\u001b[0m \u001b[0;34m\u001b[0m\u001b[0m\n",
      "\u001b[0;31mValueError\u001b[0m: Only one class present in y_true. ROC AUC score is not defined in that case."
     ]
    }
   ],
   "source": [
    "from sklearn.metrics import roc_auc_score\n",
    "y_pred = rfc.predict(X_up_test)\n",
    "print(roc_auc_score(y_up_test, y_pred))"
   ]
  },
  {
   "cell_type": "code",
   "execution_count": null,
   "metadata": {
    "scrolled": true
   },
   "outputs": [],
   "source": [
    "#RF on upsampled data, all features\n",
    "from sklearn import ensemble\n",
    "from sklearn.model_selection import cross_val_score\n",
    "from sklearn.metrics import roc_auc_score\n",
    "\n",
    "start_time = time.clock()\n",
    "rfc = ensemble.RandomForestClassifier().fit(X_up_train, y_up_train)\n",
    "scores_rfc = cross_val_score(rfc, X_up_test, y_up_test, cv=5)\n",
    "\n",
    "print('score array:\\n', scores_rfc)\n",
    "print('\\nscore array mean:\\n', np.mean(scores_rfc))\n",
    "print('\\nscore std dev:\\n', np.std(scores_rfc))\n",
    "print('\\nruntime:\\n',time.clock() - start_time, \"seconds\")"
   ]
  },
  {
   "cell_type": "code",
   "execution_count": null,
   "metadata": {},
   "outputs": [],
   "source": [
    "#AUROC score\n",
    "#from sklearn.metrics import roc_auc_score\n",
    "#prob_y = rfc.predict_proba(X_up)\n",
    "#prob_y = [p[1] for p in prob_y]\n",
    "#print('AUROC score:\\n', roc_auc_score(y_up, prob_y))"
   ]
  },
  {
   "cell_type": "code",
   "execution_count": null,
   "metadata": {},
   "outputs": [],
   "source": [
    "#rfc on upsampled kbest features\n",
    "start_time = time.clock()\n",
    "rfc_kbest = ensemble.RandomForestClassifier().fit(X_kbest, y_up)\n",
    "scores_rfc_kbest = cross_val_score(rfc_kbest, X_kbest, y_up, cv=5)\n",
    "\n",
    "print('score array:\\n', scores_rfc_kbest)\n",
    "print('\\nscore array mean:\\n', np.mean(scores_rfc_kbest))\n",
    "print('\\nscore std dev:\\n', np.std(scores_rfc_kbest))\n",
    "print('\\nruntime:\\n',time.clock() - start_time, \"seconds\")"
   ]
  },
  {
   "cell_type": "code",
   "execution_count": null,
   "metadata": {},
   "outputs": [],
   "source": [
    "#RF on downsampled data\n",
    "X_down = df_downsampled.drop('Class', 1)\n",
    "Y_down = df_downsampled['Class']\n",
    "\n",
    "start_time = time.clock()\n",
    "rfc_down = ensemble.RandomForestClassifier().fit(X_down,Y_down)\n",
    "scores_rfc_down = cross_val_score(rfc_down, X_down, Y_down, cv=5)\n",
    "\n",
    "print('score array:\\n', scores_rfc_down)\n",
    "print('\\nscore array mean:\\n', np.mean(scores_rfc_down))\n",
    "print('\\nscore std dev:\\n', np.std(scores_rfc_down))\n",
    "print('\\nruntime:\\n',time.clock() - start_time, \"seconds\")"
   ]
  },
  {
   "cell_type": "markdown",
   "metadata": {},
   "source": [
    "### Resample dataset\n",
    "\n",
    "- SVC and Gradient Boost are taking way too long to run on upsampled data (>500,000 observations)\n",
    "- Use df.sample() to take 10% of the data and upsample again"
   ]
  },
  {
   "cell_type": "code",
   "execution_count": null,
   "metadata": {},
   "outputs": [],
   "source": [
    "#random state is used for n_samples consistency with upsampling code\n",
    "df10 = df.sample(frac=0.1, replace=True, random_state=1)\n",
    "print(df10['Class'].value_counts())\n",
    "\n",
    "\n",
    "#separate majority and minority classes\n",
    "df10_majority = df10[df10.Class==0]\n",
    "df10_minority = df10[df10.Class==1]\n",
    "\n",
    "#upsample minority class\n",
    "df10_minority_upsampled = resample(df10_minority, replace=True, n_samples=28433)\n",
    "\n",
    "#combine with majority class\n",
    "df10_upsampled = pd.concat([df10_majority, df10_minority_upsampled])\n",
    "df10_upsampled.Class.value_counts()"
   ]
  },
  {
   "cell_type": "code",
   "execution_count": null,
   "metadata": {},
   "outputs": [],
   "source": [
    "#set target, data, train, & test sets\n",
    "X10 = df10_upsampled.drop('Class', 1)\n",
    "Y10 = df10_upsampled['Class']\n",
    "\n",
    "offset = int(X10.shape[0] * .9)\n",
    "X10_train, Y10_train = X10[:offset], Y10[:offset]\n",
    "X10_test, Y10_test = X10[offset:], Y10[offset:]"
   ]
  },
  {
   "cell_type": "markdown",
   "metadata": {},
   "source": [
    "### SVC"
   ]
  },
  {
   "cell_type": "code",
   "execution_count": null,
   "metadata": {},
   "outputs": [],
   "source": [
    "#SVC on upsampled data\n",
    "#from sklearn.svm import SVC\n",
    "\n",
    "#start_time = time.clock()\n",
    "#svc = SVC().fit(X10,Y10)\n",
    "#scores_svc = cross_val_score(svc, X10, Y10, cv=5)\n",
    "\n",
    "#print('score array:\\n', scores_svc)\n",
    "#print('\\nscore array mean:\\n', np.mean(scores_svc))\n",
    "#print('\\nscore array std dev:\\n', np.std(scores_svc))\n",
    "#print('\\nruntime:\\n',time.clock() - start_time, \"seconds\")"
   ]
  },
  {
   "cell_type": "code",
   "execution_count": null,
   "metadata": {},
   "outputs": [],
   "source": [
    "#SVC on downsampled data\n",
    "#start_time = time.clock()\n",
    "#svc_down = SVC(C=.01, kernel='linear').fit(X_down, Y_down)\n",
    "#scores_svc_down = cross_val_score(svc_down, X_down, Y_down, cv=5)\n",
    "\n",
    "#print('score array:\\n', scores_svc_down)\n",
    "#print('\\nscore array mean:\\n', np.mean(scores_svc_down))\n",
    "#print('\\nscore std dev:\\n', np.std(scores_svc_down))\n",
    "#print('\\nruntime:\\n',time.clock() - start_time, \"seconds\")"
   ]
  },
  {
   "cell_type": "markdown",
   "metadata": {},
   "source": [
    "### Gradient Boost"
   ]
  },
  {
   "cell_type": "code",
   "execution_count": null,
   "metadata": {},
   "outputs": [],
   "source": [
    "from sklearn.model_selection import GridSearchCV\n",
    "\n",
    "params = [{'loss':['deviance'],\n",
    "           'learning_rate':[0.01, 0.1, 1],\n",
    "           'n_estimators':[250, 500, 750],\n",
    "           'max_depth':[2, 3]}]\n",
    "\n",
    "clf = ensemble.GradientBoostingClassifier()\n",
    "grid = GridSearchCV(estimator=clf, param_grid=params)\n",
    "\n",
    "start_time = time.clock()\n",
    "grid.fit(X10, Y10)\n",
    "print('\\nBest parameters:\\n', grid.best_params_)\n",
    "print('\\nBest score:\\n', grid.best_score_)\n",
    "print('\\nruntime:\\n',time.clock() - start_time, \"seconds\")"
   ]
  },
  {
   "cell_type": "code",
   "execution_count": null,
   "metadata": {},
   "outputs": [],
   "source": [
    "#set parameters, try simple first\n",
    "params = {'n_estimators':500, 'max_depth': 2, 'loss':'deviance'}\n",
    "\n",
    "#gradient boost on upsampled data\n",
    "start_time = time.clock()\n",
    "clf = ensemble.GradientBoostingClassifier(**params).fit(X10, Y10)\n",
    "scores_clf = cross_val_score(clf, X10, Y10, cv=5)\n",
    "\n",
    "print('score array:\\n', scores_clf)\n",
    "print('\\nscore array mean:\\n', np.mean(scores_clf))\n",
    "print('\\nscore std dev:\\n', np.std(scores_clf))\n",
    "print('\\nruntime:\\n',time.clock() - start_time, \"seconds\")"
   ]
  },
  {
   "cell_type": "code",
   "execution_count": null,
   "metadata": {},
   "outputs": [],
   "source": [
    "#gradient boost on downsampled data\n",
    "\n",
    "start_time = time.clock()\n",
    "clf_down = ensemble.GradientBoostingClassifier(**params).fit(X_down, Y_down)\n",
    "scores_clf_down = cross_val_score(clf_down, X_down, Y_down, cv=5)\n",
    "\n",
    "print('score array:\\n', scores_clf_down)\n",
    "print('\\nscore array mean:\\n', np.mean(scores_clf_down))\n",
    "print('\\nscore std dev:\\n', np.std(scores_clf_down))\n",
    "print('\\nruntime:\\n',time.clock() - start_time, \"seconds\")"
   ]
  },
  {
   "cell_type": "code",
   "execution_count": null,
   "metadata": {},
   "outputs": [],
   "source": []
  }
 ],
 "metadata": {
  "kernelspec": {
   "display_name": "Python 3",
   "language": "python",
   "name": "python3"
  },
  "language_info": {
   "codemirror_mode": {
    "name": "ipython",
    "version": 3
   },
   "file_extension": ".py",
   "mimetype": "text/x-python",
   "name": "python",
   "nbconvert_exporter": "python",
   "pygments_lexer": "ipython3",
   "version": "3.6.4"
  }
 },
 "nbformat": 4,
 "nbformat_minor": 2
}
