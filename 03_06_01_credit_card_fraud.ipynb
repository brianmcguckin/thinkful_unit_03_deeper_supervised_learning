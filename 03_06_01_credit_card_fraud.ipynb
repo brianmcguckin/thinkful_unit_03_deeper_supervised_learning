{
 "cells": [
  {
   "cell_type": "code",
   "execution_count": 1,
   "metadata": {},
   "outputs": [],
   "source": [
    "import numpy as np\n",
    "import pandas as pd\n",
    "import scipy\n",
    "import matplotlib.pyplot as plt\n",
    "import seaborn as sns\n",
    "import time\n",
    "%matplotlib inline"
   ]
  },
  {
   "cell_type": "code",
   "execution_count": 2,
   "metadata": {},
   "outputs": [
    {
     "name": "stdout",
     "output_type": "stream",
     "text": [
      "0    284315\n",
      "1       492\n",
      "Name: Class, dtype: int64\n"
     ]
    },
    {
     "data": {
      "text/html": [
       "<div>\n",
       "<style scoped>\n",
       "    .dataframe tbody tr th:only-of-type {\n",
       "        vertical-align: middle;\n",
       "    }\n",
       "\n",
       "    .dataframe tbody tr th {\n",
       "        vertical-align: top;\n",
       "    }\n",
       "\n",
       "    .dataframe thead th {\n",
       "        text-align: right;\n",
       "    }\n",
       "</style>\n",
       "<table border=\"1\" class=\"dataframe\">\n",
       "  <thead>\n",
       "    <tr style=\"text-align: right;\">\n",
       "      <th></th>\n",
       "      <th>Time</th>\n",
       "      <th>V1</th>\n",
       "      <th>V2</th>\n",
       "      <th>V3</th>\n",
       "      <th>V4</th>\n",
       "      <th>V5</th>\n",
       "      <th>V6</th>\n",
       "      <th>V7</th>\n",
       "      <th>V8</th>\n",
       "      <th>V9</th>\n",
       "      <th>...</th>\n",
       "      <th>V21</th>\n",
       "      <th>V22</th>\n",
       "      <th>V23</th>\n",
       "      <th>V24</th>\n",
       "      <th>V25</th>\n",
       "      <th>V26</th>\n",
       "      <th>V27</th>\n",
       "      <th>V28</th>\n",
       "      <th>Amount</th>\n",
       "      <th>Class</th>\n",
       "    </tr>\n",
       "  </thead>\n",
       "  <tbody>\n",
       "    <tr>\n",
       "      <th>0</th>\n",
       "      <td>0.0</td>\n",
       "      <td>-1.359807</td>\n",
       "      <td>-0.072781</td>\n",
       "      <td>2.536347</td>\n",
       "      <td>1.378155</td>\n",
       "      <td>-0.338321</td>\n",
       "      <td>0.462388</td>\n",
       "      <td>0.239599</td>\n",
       "      <td>0.098698</td>\n",
       "      <td>0.363787</td>\n",
       "      <td>...</td>\n",
       "      <td>-0.018307</td>\n",
       "      <td>0.277838</td>\n",
       "      <td>-0.110474</td>\n",
       "      <td>0.066928</td>\n",
       "      <td>0.128539</td>\n",
       "      <td>-0.189115</td>\n",
       "      <td>0.133558</td>\n",
       "      <td>-0.021053</td>\n",
       "      <td>149.62</td>\n",
       "      <td>0</td>\n",
       "    </tr>\n",
       "    <tr>\n",
       "      <th>1</th>\n",
       "      <td>0.0</td>\n",
       "      <td>1.191857</td>\n",
       "      <td>0.266151</td>\n",
       "      <td>0.166480</td>\n",
       "      <td>0.448154</td>\n",
       "      <td>0.060018</td>\n",
       "      <td>-0.082361</td>\n",
       "      <td>-0.078803</td>\n",
       "      <td>0.085102</td>\n",
       "      <td>-0.255425</td>\n",
       "      <td>...</td>\n",
       "      <td>-0.225775</td>\n",
       "      <td>-0.638672</td>\n",
       "      <td>0.101288</td>\n",
       "      <td>-0.339846</td>\n",
       "      <td>0.167170</td>\n",
       "      <td>0.125895</td>\n",
       "      <td>-0.008983</td>\n",
       "      <td>0.014724</td>\n",
       "      <td>2.69</td>\n",
       "      <td>0</td>\n",
       "    </tr>\n",
       "    <tr>\n",
       "      <th>2</th>\n",
       "      <td>1.0</td>\n",
       "      <td>-1.358354</td>\n",
       "      <td>-1.340163</td>\n",
       "      <td>1.773209</td>\n",
       "      <td>0.379780</td>\n",
       "      <td>-0.503198</td>\n",
       "      <td>1.800499</td>\n",
       "      <td>0.791461</td>\n",
       "      <td>0.247676</td>\n",
       "      <td>-1.514654</td>\n",
       "      <td>...</td>\n",
       "      <td>0.247998</td>\n",
       "      <td>0.771679</td>\n",
       "      <td>0.909412</td>\n",
       "      <td>-0.689281</td>\n",
       "      <td>-0.327642</td>\n",
       "      <td>-0.139097</td>\n",
       "      <td>-0.055353</td>\n",
       "      <td>-0.059752</td>\n",
       "      <td>378.66</td>\n",
       "      <td>0</td>\n",
       "    </tr>\n",
       "    <tr>\n",
       "      <th>3</th>\n",
       "      <td>1.0</td>\n",
       "      <td>-0.966272</td>\n",
       "      <td>-0.185226</td>\n",
       "      <td>1.792993</td>\n",
       "      <td>-0.863291</td>\n",
       "      <td>-0.010309</td>\n",
       "      <td>1.247203</td>\n",
       "      <td>0.237609</td>\n",
       "      <td>0.377436</td>\n",
       "      <td>-1.387024</td>\n",
       "      <td>...</td>\n",
       "      <td>-0.108300</td>\n",
       "      <td>0.005274</td>\n",
       "      <td>-0.190321</td>\n",
       "      <td>-1.175575</td>\n",
       "      <td>0.647376</td>\n",
       "      <td>-0.221929</td>\n",
       "      <td>0.062723</td>\n",
       "      <td>0.061458</td>\n",
       "      <td>123.50</td>\n",
       "      <td>0</td>\n",
       "    </tr>\n",
       "    <tr>\n",
       "      <th>4</th>\n",
       "      <td>2.0</td>\n",
       "      <td>-1.158233</td>\n",
       "      <td>0.877737</td>\n",
       "      <td>1.548718</td>\n",
       "      <td>0.403034</td>\n",
       "      <td>-0.407193</td>\n",
       "      <td>0.095921</td>\n",
       "      <td>0.592941</td>\n",
       "      <td>-0.270533</td>\n",
       "      <td>0.817739</td>\n",
       "      <td>...</td>\n",
       "      <td>-0.009431</td>\n",
       "      <td>0.798278</td>\n",
       "      <td>-0.137458</td>\n",
       "      <td>0.141267</td>\n",
       "      <td>-0.206010</td>\n",
       "      <td>0.502292</td>\n",
       "      <td>0.219422</td>\n",
       "      <td>0.215153</td>\n",
       "      <td>69.99</td>\n",
       "      <td>0</td>\n",
       "    </tr>\n",
       "  </tbody>\n",
       "</table>\n",
       "<p>5 rows × 31 columns</p>\n",
       "</div>"
      ],
      "text/plain": [
       "   Time        V1        V2        V3        V4        V5        V6        V7  \\\n",
       "0   0.0 -1.359807 -0.072781  2.536347  1.378155 -0.338321  0.462388  0.239599   \n",
       "1   0.0  1.191857  0.266151  0.166480  0.448154  0.060018 -0.082361 -0.078803   \n",
       "2   1.0 -1.358354 -1.340163  1.773209  0.379780 -0.503198  1.800499  0.791461   \n",
       "3   1.0 -0.966272 -0.185226  1.792993 -0.863291 -0.010309  1.247203  0.237609   \n",
       "4   2.0 -1.158233  0.877737  1.548718  0.403034 -0.407193  0.095921  0.592941   \n",
       "\n",
       "         V8        V9  ...         V21       V22       V23       V24  \\\n",
       "0  0.098698  0.363787  ...   -0.018307  0.277838 -0.110474  0.066928   \n",
       "1  0.085102 -0.255425  ...   -0.225775 -0.638672  0.101288 -0.339846   \n",
       "2  0.247676 -1.514654  ...    0.247998  0.771679  0.909412 -0.689281   \n",
       "3  0.377436 -1.387024  ...   -0.108300  0.005274 -0.190321 -1.175575   \n",
       "4 -0.270533  0.817739  ...   -0.009431  0.798278 -0.137458  0.141267   \n",
       "\n",
       "        V25       V26       V27       V28  Amount  Class  \n",
       "0  0.128539 -0.189115  0.133558 -0.021053  149.62      0  \n",
       "1  0.167170  0.125895 -0.008983  0.014724    2.69      0  \n",
       "2 -0.327642 -0.139097 -0.055353 -0.059752  378.66      0  \n",
       "3  0.647376 -0.221929  0.062723  0.061458  123.50      0  \n",
       "4 -0.206010  0.502292  0.219422  0.215153   69.99      0  \n",
       "\n",
       "[5 rows x 31 columns]"
      ]
     },
     "execution_count": 2,
     "metadata": {},
     "output_type": "execute_result"
    }
   ],
   "source": [
    "df = pd.read_csv('creditcard.csv')\n",
    "print(df['Class'].value_counts())\n",
    "df.head()"
   ]
  },
  {
   "cell_type": "markdown",
   "metadata": {},
   "source": [
    "Target is very unbalanced, need to address this"
   ]
  },
  {
   "cell_type": "code",
   "execution_count": 11,
   "metadata": {},
   "outputs": [
    {
     "data": {
      "text/plain": [
       "1    284315\n",
       "0    284315\n",
       "Name: Class, dtype: int64"
      ]
     },
     "execution_count": 11,
     "metadata": {},
     "output_type": "execute_result"
    }
   ],
   "source": [
    "#try sklearn upsample (randomly duplicating obvs from minority class)\n",
    "from sklearn.utils import resample\n",
    "\n",
    "#separate majority and minority classes\n",
    "df_majority = df[df.Class==0]\n",
    "df_minority = df[df.Class==1]\n",
    "\n",
    "#upsample minority class\n",
    "df_minority_upsampled = resample(df_minority, replace=True, n_samples=284315)\n",
    "\n",
    "#combine with majority class\n",
    "df_upsampled = pd.concat([df_majority, df_minority_upsampled])\n",
    "df_upsampled.Class.value_counts()"
   ]
  },
  {
   "cell_type": "code",
   "execution_count": 6,
   "metadata": {},
   "outputs": [
    {
     "data": {
      "text/plain": [
       "1    492\n",
       "0    492\n",
       "Name: Class, dtype: int64"
      ]
     },
     "execution_count": 6,
     "metadata": {},
     "output_type": "execute_result"
    }
   ],
   "source": [
    "#also downsample (remove random obvs from majority class) to compare results\n",
    "df_majority_downsampled = resample(df_majority, replace=False, n_samples=492)\n",
    "df_downsampled = pd.concat([df_majority_downsampled, df_minority])\n",
    "df_downsampled.Class.value_counts()"
   ]
  },
  {
   "cell_type": "markdown",
   "metadata": {},
   "source": [
    "### Models to try:\n",
    "- Random Forest\n",
    "- Support Vector\n",
    "- Gradient Boost"
   ]
  },
  {
   "cell_type": "markdown",
   "metadata": {},
   "source": [
    "### Random Forest"
   ]
  },
  {
   "cell_type": "code",
   "execution_count": 4,
   "metadata": {},
   "outputs": [
    {
     "name": "stdout",
     "output_type": "stream",
     "text": [
      "score array:\n",
      " [0.92585688 0.99999121 0.99990328 0.99999121 0.70970578]\n",
      "\n",
      "score array mean:\n",
      " 0.927089671666989\n",
      "\n",
      "score std dev:\n",
      " 0.11241740350754435\n",
      "\n",
      "runtime:\n",
      " 105.95232 seconds\n"
     ]
    }
   ],
   "source": [
    "#RF on upsampled data\n",
    "from sklearn import ensemble\n",
    "from sklearn.model_selection import cross_val_score\n",
    "\n",
    "X = df_upsampled.drop('Class', 1)\n",
    "Y = df_upsampled['Class']\n",
    "\n",
    "start_time = time.clock()\n",
    "rfc = ensemble.RandomForestClassifier().fit(X,Y)\n",
    "scores_rfc = cross_val_score(rfc, X, Y, cv=5)\n",
    "\n",
    "print('score array:\\n', scores_rfc)\n",
    "print('\\nscore array mean:\\n', np.mean(scores_rfc))\n",
    "print('\\nscore std dev:\\n', np.std(scores_rfc))\n",
    "print('\\nruntime:\\n',time.clock() - start_time, \"seconds\")"
   ]
  },
  {
   "cell_type": "markdown",
   "metadata": {},
   "source": [
    "__Result:__ ok accuracy but often when running cross validation I run I get a single score that is much lower than the rest, reason for concern?"
   ]
  },
  {
   "cell_type": "code",
   "execution_count": 7,
   "metadata": {},
   "outputs": [
    {
     "name": "stdout",
     "output_type": "stream",
     "text": [
      "score array:\n",
      " [0.95959596 0.91414141 0.90816327 0.95408163 0.8877551 ]\n",
      "\n",
      "score array mean:\n",
      " 0.9247474747474748\n",
      "\n",
      "score std dev:\n",
      " 0.027679847828726786\n",
      "\n",
      "runtime:\n",
      " 0.19017000000000905 seconds\n"
     ]
    }
   ],
   "source": [
    "#RF on downsampled data\n",
    "X_down = df_downsampled.drop('Class', 1)\n",
    "Y_down = df_downsampled['Class']\n",
    "\n",
    "start_time = time.clock()\n",
    "rfc_down = ensemble.RandomForestClassifier().fit(X_down,Y_down)\n",
    "scores_rfc_down = cross_val_score(rfc_down, X_down, Y_down, cv=5)\n",
    "\n",
    "print('score array:\\n', scores_rfc_down)\n",
    "print('\\nscore array mean:\\n', np.mean(scores_rfc_down))\n",
    "print('\\nscore std dev:\\n', np.std(scores_rfc_down))\n",
    "print('\\nruntime:\\n',time.clock() - start_time, \"seconds\")"
   ]
  },
  {
   "cell_type": "markdown",
   "metadata": {},
   "source": [
    "__Result:__ similar accuracy, same single cross val score that is lower, runs much faster"
   ]
  },
  {
   "cell_type": "markdown",
   "metadata": {},
   "source": [
    "### Resample dataset\n",
    "\n",
    "- SVC and Gradient Boost are taking way too long to run on upsampled data (>500,000 observations)\n",
    "- Use df.sample() to take 10% of the data and upsample again"
   ]
  },
  {
   "cell_type": "code",
   "execution_count": 8,
   "metadata": {},
   "outputs": [
    {
     "name": "stdout",
     "output_type": "stream",
     "text": [
      "0    28433\n",
      "1       48\n",
      "Name: Class, dtype: int64\n"
     ]
    },
    {
     "data": {
      "text/plain": [
       "1    28433\n",
       "0    28433\n",
       "Name: Class, dtype: int64"
      ]
     },
     "execution_count": 8,
     "metadata": {},
     "output_type": "execute_result"
    }
   ],
   "source": [
    "#random state is used for n_samples consistency with upsampling code\n",
    "df10 = df.sample(frac=0.1, replace=True, random_state=1)\n",
    "print(df10['Class'].value_counts())\n",
    "\n",
    "\n",
    "#separate majority and minority classes\n",
    "df10_majority = df10[df10.Class==0]\n",
    "df10_minority = df10[df10.Class==1]\n",
    "\n",
    "#upsample minority class\n",
    "df10_minority_upsampled = resample(df10_minority, replace=True, n_samples=28433)\n",
    "\n",
    "#combine with majority class\n",
    "df10_upsampled = pd.concat([df10_majority, df10_minority_upsampled])\n",
    "df10_upsampled.Class.value_counts()"
   ]
  },
  {
   "cell_type": "code",
   "execution_count": 9,
   "metadata": {},
   "outputs": [],
   "source": [
    "#set target, data, train, & test sets\n",
    "X10 = df10_upsampled.drop('Class', 1)\n",
    "Y10 = df10_upsampled['Class']\n",
    "\n",
    "offset = int(X10.shape[0] * .9)\n",
    "X10_train, Y10_train = X10[:offset], Y10[:offset]\n",
    "X10_test, Y10_test = X10[offset:], Y10[offset:]"
   ]
  },
  {
   "cell_type": "markdown",
   "metadata": {},
   "source": [
    "### SVC"
   ]
  },
  {
   "cell_type": "code",
   "execution_count": 12,
   "metadata": {},
   "outputs": [
    {
     "name": "stdout",
     "output_type": "stream",
     "text": [
      "score array:\n",
      " [1. 1. 1. 1. 1.]\n",
      "\n",
      "score array mean:\n",
      " 1.0\n",
      "\n",
      "score array std dev:\n",
      " 0.0\n",
      "\n",
      "runtime:\n",
      " 527.311423 seconds\n"
     ]
    }
   ],
   "source": [
    "#SVC on upsampled data\n",
    "from sklearn.svm import SVC\n",
    "\n",
    "start_time = time.clock()\n",
    "svc = SVC().fit(X10,Y10)\n",
    "scores_svc = cross_val_score(svc, X10, Y10, cv=5)\n",
    "\n",
    "print('score array:\\n', scores_svc)\n",
    "print('\\nscore array mean:\\n', np.mean(scores_svc))\n",
    "print('\\nscore array std dev:\\n', np.std(scores_svc))\n",
    "print('\\nruntime:\\n',time.clock() - start_time, \"seconds\")"
   ]
  },
  {
   "cell_type": "code",
   "execution_count": 16,
   "metadata": {},
   "outputs": [
    {
     "name": "stdout",
     "output_type": "stream",
     "text": [
      "score array:\n",
      " [0.96969697 0.92424242 0.85714286 0.92857143 0.75510204]\n",
      "\n",
      "score array mean:\n",
      " 0.8869511440940012\n",
      "\n",
      "score std dev:\n",
      " 0.07515647585656969\n",
      "\n",
      "runtime:\n",
      " 191.11606700000004 seconds\n"
     ]
    }
   ],
   "source": [
    "#SVC on downsampled data\n",
    "start_time = time.clock()\n",
    "svc_down = SVC(C=.01, kernel='linear').fit(X_down, Y_down)\n",
    "scores_svc_down = cross_val_score(svc_down, X_down, Y_down, cv=5)\n",
    "\n",
    "print('score array:\\n', scores_svc_down)\n",
    "print('\\nscore array mean:\\n', np.mean(scores_svc_down))\n",
    "print('\\nscore std dev:\\n', np.std(scores_svc_down))\n",
    "print('\\nruntime:\\n',time.clock() - start_time, \"seconds\")"
   ]
  },
  {
   "cell_type": "markdown",
   "metadata": {},
   "source": [
    "__Result:__ SVC rbf kernel scores are weird, is this right?"
   ]
  },
  {
   "cell_type": "markdown",
   "metadata": {},
   "source": [
    "### Gradient Boost"
   ]
  },
  {
   "cell_type": "code",
   "execution_count": 17,
   "metadata": {},
   "outputs": [
    {
     "name": "stdout",
     "output_type": "stream",
     "text": [
      "score array:\n",
      " [0.99973624 0.99991208 0.99991208 0.99973619 0.99982413]\n",
      "\n",
      "score array mean:\n",
      " 0.999824144903239\n",
      "\n",
      "score std dev:\n",
      " 7.864824937925089e-05\n",
      "\n",
      "runtime:\n",
      " 170.55128100000002 seconds\n"
     ]
    }
   ],
   "source": [
    "#set parameters, try simple first\n",
    "params = {'n_estimators':500, 'max_depth': 2, 'loss':'deviance'}\n",
    "\n",
    "#gradient boost on upsampled data\n",
    "start_time = time.clock()\n",
    "clf = ensemble.GradientBoostingClassifier(**params).fit(X10, Y10)\n",
    "scores_clf = cross_val_score(clf, X10, Y10, cv=5)\n",
    "\n",
    "print('score array:\\n', scores_clf)\n",
    "print('\\nscore array mean:\\n', np.mean(scores_clf))\n",
    "print('\\nscore std dev:\\n', np.std(scores_clf))\n",
    "print('\\nruntime:\\n',time.clock() - start_time, \"seconds\")"
   ]
  },
  {
   "cell_type": "code",
   "execution_count": 19,
   "metadata": {},
   "outputs": [
    {
     "name": "stdout",
     "output_type": "stream",
     "text": [
      "score array:\n",
      " [0.95959596 0.93939394 0.91836735 0.93877551 0.90816327]\n",
      "\n",
      "score array mean:\n",
      " 0.9328592042877759\n",
      "\n",
      "score std dev:\n",
      " 0.017958078152308248\n",
      "\n",
      "runtime:\n",
      " 1.288808999999901 seconds\n"
     ]
    }
   ],
   "source": [
    "#gradient boost on downsampled data\n",
    "\n",
    "start_time = time.clock()\n",
    "clf_down = ensemble.GradientBoostingClassifier().fit(X_down, Y_down)\n",
    "scores_clf_down = cross_val_score(clf_down, X_down, Y_down, cv=5)\n",
    "\n",
    "print('score array:\\n', scores_clf_down)\n",
    "print('\\nscore array mean:\\n', np.mean(scores_clf_down))\n",
    "print('\\nscore std dev:\\n', np.std(scores_clf_down))\n",
    "print('\\nruntime:\\n',time.clock() - start_time, \"seconds\")"
   ]
  },
  {
   "cell_type": "markdown",
   "metadata": {},
   "source": [
    "__Result:__ on upsampled (more) data, gradient boost has very high accuracy and very low variance. It is less accurate on downsampled (less) data, but still more accurate than the Random Forest models"
   ]
  },
  {
   "cell_type": "code",
   "execution_count": null,
   "metadata": {},
   "outputs": [],
   "source": []
  }
 ],
 "metadata": {
  "kernelspec": {
   "display_name": "Python 3",
   "language": "python",
   "name": "python3"
  },
  "language_info": {
   "codemirror_mode": {
    "name": "ipython",
    "version": 3
   },
   "file_extension": ".py",
   "mimetype": "text/x-python",
   "name": "python",
   "nbconvert_exporter": "python",
   "pygments_lexer": "ipython3",
   "version": "3.6.4"
  }
 },
 "nbformat": 4,
 "nbformat_minor": 2
}
