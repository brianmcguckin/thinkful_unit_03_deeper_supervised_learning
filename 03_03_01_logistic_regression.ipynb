{
 "cells": [
  {
   "cell_type": "code",
   "execution_count": 1,
   "metadata": {},
   "outputs": [
    {
     "name": "stderr",
     "output_type": "stream",
     "text": [
      "/anaconda3/lib/python3.6/site-packages/statsmodels/compat/pandas.py:56: FutureWarning: The pandas.core.datetools module is deprecated and will be removed in a future version. Please use the pandas.tseries module instead.\n",
      "  from pandas.core import datetools\n"
     ]
    }
   ],
   "source": [
    "import numpy as np\n",
    "import pandas as pd\n",
    "import matplotlib.pyplot as plt\n",
    "import seaborn as sns\n",
    "import statsmodels.api as sm\n",
    "from sklearn.linear_model import LogisticRegression"
   ]
  },
  {
   "cell_type": "markdown",
   "metadata": {},
   "source": [
    "## Logistic vs. Linear Regression\n",
    "\n",
    "__Linear regression:__ predict a continuous outcome variable $y$, ie how much money a customer will spend\n",
    "- Formula for multivariate linear regr relating outcome $y$ to matrix of variables $X$:\n",
    "$$y=\\alpha + \\beta X$$\n",
    "\n",
    "__Logistic regression:__ predict the probability of a categorical outcome (using regression as a classifier)\n",
    "- Formula for binary logistic regr relating $p$ to a matrix of variables $X$:\n",
    "\n",
    "$$ln\\left(\\dfrac p{1-p}\\right)=\\beta X$$\n",
    "\n",
    "- $p=$ the probability of $y=1$\n",
    "\n",
    "- $1-p=$ the probability of $y=0$\n",
    "\n",
    "- The ratio of $p$ to $1-p$ gives the odds of getting $y=1$\n",
    "\n",
    "__Example:__ what are the odds for an unfair coin with an 80% probability of heads\n",
    "\n",
    "- heads = .8/(1-.8) = 4, ie you are 4 times more likely to get heads than tails\n",
    "- tails = .2/(1-.2) = .25\n",
    "\n",
    "__Assumptions of logistic regr:__ same assumptions as linear regression\n",
    "- Linearity of the transformed probabilities and the predictors\n",
    "- Multivariate normality of the residuals\n",
    "- Homoscedasticity (variance of residuals is constant across predicted values)\n",
    "- Low multicollinearity\n",
    "\n",
    "__Why log?:__ binary outcome (0,1) converted into logged odds because regression requires normally distributed residuals"
   ]
  },
  {
   "cell_type": "code",
   "execution_count": 5,
   "metadata": {},
   "outputs": [
    {
     "data": {
      "image/png": "[encoded data removed]",
      "text/plain": [
       "<matplotlib.figure.Figure at 0x1c0c3298d0>"
      ]
     },
     "metadata": {},
     "output_type": "display_data"
    }
   ],
   "source": [
    "sns.set_style('whitegrid')\n",
    "#set random seed so results are the same each time code is run\n",
    "np.random.seed(seed=456613)\n",
    "\n",
    "#create data\n",
    "df = pd.DataFrame()\n",
    "for probs in list(range(2,9)):\n",
    "    tmp = pd.DataFrame({\n",
    "        'y': np.random.binomial(1, probs/10, size=(1,100))[0],\n",
    "        'x': probs\n",
    "    })\n",
    "    df = df.append(tmp)\n",
    "    \n",
    "x = df['x'] #continuous predictor\n",
    "bin_y = df['y'] #binary outcome\n",
    "\n",
    "#calculate linear regression for bot x and bin_y\n",
    "fit = np.polyfit(x,bin_y,1)\n",
    "\n",
    "#work as a function to return the predicted value of y\n",
    "fit_fn = np.poly1d(fit)\n",
    "\n",
    "#add some noise for graphing purposes\n",
    "jitter = np.random.randn(700)\n",
    "\n",
    "#display results\n",
    "plt.plot(x + jitter, bin_y + jitter / 100, 'yo', x, fit_fn(x), '--k')\n",
    "plt.xlabel('continuous x')\n",
    "plt.ylabel('binary y')\n",
    "plt.show()"
   ]
  },
  {
   "cell_type": "markdown",
   "metadata": {},
   "source": [
    "Because y only takes two outcomes, relationship between x and y is very non linear. A regression line would fit very poorly to this data."
   ]
  },
  {
   "cell_type": "code",
   "execution_count": null,
   "metadata": {},
   "outputs": [],
   "source": []
  }
 ],
 "metadata": {
  "kernelspec": {
   "display_name": "Python 3",
   "language": "python",
   "name": "python3"
  },
  "language_info": {
   "codemirror_mode": {
    "name": "ipython",
    "version": 3
   },
   "file_extension": ".py",
   "mimetype": "text/x-python",
   "name": "python",
   "nbconvert_exporter": "python",
   "pygments_lexer": "ipython3",
   "version": "3.6.4"
  }
 },
 "nbformat": 4,
 "nbformat_minor": 2
}
