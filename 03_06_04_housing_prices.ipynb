{
 "cells": [
  {
   "cell_type": "code",
   "execution_count": 1,
   "metadata": {},
   "outputs": [],
   "source": [
    "import numpy as np\n",
    "import pandas as pd\n",
    "import scipy\n",
    "import matplotlib.pyplot as plt\n",
    "import seaborn as sns\n",
    "import time\n",
    "%matplotlib inline"
   ]
  },
  {
   "cell_type": "markdown",
   "metadata": {},
   "source": [
    "### Data & Cleaning\n",
    "\n",
    "https://www.kaggle.com/anthonypino/melbourne-housing-market\n",
    "\n",
    "21 column, 34,857 row dataset containing housing market data for Melbourne"
   ]
  },
  {
   "cell_type": "code",
   "execution_count": 2,
   "metadata": {},
   "outputs": [],
   "source": [
    "#21 column 34857 row housing dataset\n",
    "df_raw = pd.read_csv('Melbourne_housing_FULL.csv')"
   ]
  },
  {
   "cell_type": "code",
   "execution_count": 3,
   "metadata": {},
   "outputs": [
    {
     "data": {
      "text/plain": [
       "Suburb               0\n",
       "Address              0\n",
       "Rooms                0\n",
       "Type                 0\n",
       "Price             7610\n",
       "Method               0\n",
       "SellerG              0\n",
       "Date                 0\n",
       "Distance             1\n",
       "Postcode             1\n",
       "Bedroom2          8217\n",
       "Bathroom          8226\n",
       "Car               8728\n",
       "Landsize         11810\n",
       "BuildingArea     21115\n",
       "YearBuilt        19306\n",
       "CouncilArea          3\n",
       "Lattitude         7976\n",
       "Longtitude        7976\n",
       "Regionname           3\n",
       "Propertycount        3\n",
       "dtype: int64"
      ]
     },
     "execution_count": 3,
     "metadata": {},
     "output_type": "execute_result"
    }
   ],
   "source": [
    "#set dataframe to clean\n",
    "df = df_raw\n",
    "df.isnull().sum()"
   ]
  },
  {
   "cell_type": "code",
   "execution_count": 4,
   "metadata": {},
   "outputs": [],
   "source": [
    "#lots of nans\n",
    "#see how much data is left if drop all of them\n",
    "df = df.dropna()\n",
    "\n",
    "#nearly 9000 rows still, see how this performs as is\n",
    "#set data & target, get dummies for categoricals\n",
    "X = df.drop('Price',1)\n",
    "X = pd.get_dummies(X)\n",
    "y = df['Price']\n",
    "\n",
    "#set train & test sets\n",
    "offset = int(X.shape[0] * 0.9)\n",
    "X_train, y_train = X[:offset], y[:offset]\n",
    "X_test, y_test = X[offset:], y[offset:]"
   ]
  },
  {
   "cell_type": "markdown",
   "metadata": {},
   "source": [
    "### Random Forest Regression"
   ]
  },
  {
   "cell_type": "code",
   "execution_count": 5,
   "metadata": {},
   "outputs": [
    {
     "name": "stdout",
     "output_type": "stream",
     "text": [
      "score array:\n",
      " [0.74888642 0.75633057 0.78345858 0.75260314 0.79962301]\n",
      "\n",
      "score array mean:\n",
      " 0.7681803460325961\n",
      "\n",
      "runtime:\n",
      " 61.737435000000005 seconds\n"
     ]
    }
   ],
   "source": [
    "#default RF regression\n",
    "from sklearn import ensemble\n",
    "from sklearn.model_selection import cross_val_score\n",
    "\n",
    "start_time = time.clock()\n",
    "rfr = ensemble.RandomForestRegressor().fit(X_train, y_train)\n",
    "scores_rfr = cross_val_score(rfr, X_train, y_train, cv=5)\n",
    "\n",
    "print('score array:\\n', scores_rfr)\n",
    "print('\\nscore array mean:\\n', np.mean(scores_rfr))\n",
    "print('\\nruntime:\\n',time.clock() - start_time, 'seconds')"
   ]
  },
  {
   "cell_type": "code",
   "execution_count": 6,
   "metadata": {},
   "outputs": [
    {
     "name": "stdout",
     "output_type": "stream",
     "text": [
      "score array:\n",
      " [0.83136369 0.77059368 0.64755632 0.70542135 0.77209013]\n",
      "\n",
      "score array mean:\n",
      " 0.745405033464097\n",
      "\n",
      "runtime:\n",
      " 3.819082999999992 seconds\n"
     ]
    }
   ],
   "source": [
    "#run on test data\n",
    "start_time = time.clock()\n",
    "scores_rfr = cross_val_score(rfr, X_test, y_test, cv=5)\n",
    "\n",
    "print('score array:\\n', scores_rfr)\n",
    "print('\\nscore array mean:\\n', np.mean(scores_rfr))\n",
    "print('\\nruntime:\\n',time.clock() - start_time, 'seconds')"
   ]
  },
  {
   "cell_type": "markdown",
   "metadata": {},
   "source": [
    "### Gradient Boosting"
   ]
  },
  {
   "cell_type": "code",
   "execution_count": 13,
   "metadata": {},
   "outputs": [
    {
     "name": "stdout",
     "output_type": "stream",
     "text": [
      "score array:\n",
      " [0.75588946 0.79583189 0.78545596 0.71599991 0.78584532]\n",
      "\n",
      "score array mean:\n",
      " 0.7678045087752388\n",
      "\n",
      "runtime:\n",
      " 371.908873 seconds\n"
     ]
    }
   ],
   "source": [
    "#default gradient boosting\n",
    "start_time = time.clock()\n",
    "gbr = ensemble.GradientBoostingRegressor().fit(X_train, y_train)\n",
    "scores_gbr = cross_val_score(gbr, X_train, y_train, cv=5)\n",
    "\n",
    "print('score array:\\n', scores_gbr)\n",
    "print('\\nscore array mean:\\n', np.mean(scores_gbr))\n",
    "print('\\nruntime:\\n',time.clock() - start_time, 'seconds')"
   ]
  },
  {
   "cell_type": "markdown",
   "metadata": {},
   "source": [
    "### Feature Selection"
   ]
  },
  {
   "cell_type": "code",
   "execution_count": 12,
   "metadata": {},
   "outputs": [
    {
     "name": "stdout",
     "output_type": "stream",
     "text": [
      "['Rooms', 'Bedroom2', 'Bathroom', 'BuildingArea', 'Regionname_Southern Metropolitan']\n"
     ]
    }
   ],
   "source": [
    "from sklearn.feature_selection import SelectKBest, f_regression\n",
    "import warnings\n",
    "warnings.filterwarnings('ignore')\n",
    "\n",
    "k = 5\n",
    "kbest = SelectKBest(f_regression, k=k)\n",
    "kbest.fit(X, y)\n",
    "\n",
    "mask = kbest.get_support()\n",
    "k_feats = []\n",
    "for bool, feat in zip(mask, X.columns):\n",
    "    if bool:\n",
    "        k_feats.append(feat)\n",
    "\n",
    "print(k_feats)\n",
    "\n",
    "#X_kbest = df[k_feats]\n",
    "#X_kbest_train, X_kbest_test = X_kbest[:offset], X_kbest[offset:]"
   ]
  },
  {
   "cell_type": "code",
   "execution_count": null,
   "metadata": {},
   "outputs": [],
   "source": [
    "#tune RF regr\n",
    "#from sklearn.model_selection import GridSearchCV\n",
    "\n",
    "#params = [{'n_estimators':[10, 15, 20],\n",
    "#           'criterion':['mse','mae'],\n",
    "#           'max_depth':[2,3,4]}]\n",
    "\n",
    "#rfr2 = ensemble.RandomForestRegressor()\n",
    "#grid = GridSearchCV(estimator=rfr2, param_grid=params)\n",
    "\n",
    "#start_time = time.clock()\n",
    "#grid.fit(X_train, y_train)\n",
    "#print('\\nBest parameters:\\n', grid.best_params_)\n",
    "#print('\\nBest score:\\n', grid.best_score_)\n",
    "#print('\\nruntime:\\n',time.clock() - start_time, 'seconds')"
   ]
  },
  {
   "cell_type": "code",
   "execution_count": null,
   "metadata": {},
   "outputs": [],
   "source": [
    "#check categorical data types\n",
    "#cat = df.select_dtypes(include=['object'])\n",
    "#for i in cat:\n",
    "#    column = cat[i]\n",
    "#    print(i)\n",
    "#    print(column.nunique())"
   ]
  },
  {
   "cell_type": "code",
   "execution_count": null,
   "metadata": {},
   "outputs": [],
   "source": []
  }
 ],
 "metadata": {
  "kernelspec": {
   "display_name": "Python 3",
   "language": "python",
   "name": "python3"
  },
  "language_info": {
   "codemirror_mode": {
    "name": "ipython",
    "version": 3
   },
   "file_extension": ".py",
   "mimetype": "text/x-python",
   "name": "python",
   "nbconvert_exporter": "python",
   "pygments_lexer": "ipython3",
   "version": "3.6.4"
  }
 },
 "nbformat": 4,
 "nbformat_minor": 2
}
