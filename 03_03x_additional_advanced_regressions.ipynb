{
 "cells": [
  {
   "cell_type": "code",
   "execution_count": 2,
   "metadata": {},
   "outputs": [
    {
     "name": "stderr",
     "output_type": "stream",
     "text": [
      "/anaconda3/lib/python3.6/site-packages/statsmodels/compat/pandas.py:56: FutureWarning: The pandas.core.datetools module is deprecated and will be removed in a future version. Please use the pandas.tseries module instead.\n",
      "  from pandas.core import datetools\n"
     ]
    }
   ],
   "source": [
    "import pandas as pd\n",
    "import numpy as np\n",
    "import scipy\n",
    "import matplotlib.pyplot as plt\n",
    "import seaborn as sns\n",
    "%matplotlib inline\n",
    "\n",
    "import statsmodels.api as sm\n",
    "import sklearn\n",
    "from sklearn import linear_model\n",
    "from sklearn.linear_model import LogisticRegression\n",
    "from sklearn import preprocessing"
   ]
  },
  {
   "cell_type": "markdown",
   "metadata": {},
   "source": [
    "## Dataset: Diagnostic Wisconsin Breast Cancer Dataset\n",
    "\n",
    "__Source:__ https://archive.ics.uci.edu/ml/datasets/Breast+Cancer+Wisconsin+%28Diagnostic%29"
   ]
  },
  {
   "cell_type": "code",
   "execution_count": 3,
   "metadata": {},
   "outputs": [],
   "source": [
    "#load/clean/prep data\n",
    "df = pd.read_csv('breast_cancer_data.csv')\n",
    "\n",
    "#remove last column of Nans\n",
    "df = df.drop('Unnamed: 32',1)\n",
    "\n",
    "#change diagnosis to 0 (benign) or 1 (malignant)\n",
    "df['diagnosis'] = df['diagnosis'].map(lambda x: 1 if x == 'M' else 0)\n",
    "\n",
    "#get variables with above .7 correlation to diagnosis\n",
    "df_temp = pd.DataFrame(df.corr()['diagnosis'])\n",
    "df_temp = df_temp.loc[df_temp['diagnosis'] >= .7].sort_values(['diagnosis'],\n",
    "                                                             ascending=False)\n",
    "df_temp = df_temp.reset_index()\n",
    "variables = df_temp['index'].tolist()\n",
    "\n",
    "#dataframe with only selected variables\n",
    "df2 = df[variables]\n",
    "\n",
    "#create train and test sets\n",
    "trainsize = int(df2.shape[0] / 2)\n",
    "df2_test = df2.iloc[trainsize:, :].copy()\n",
    "df2_train = df2.iloc[:trainsize, :].copy()\n",
    "\n",
    "#create data/target train and tests\n",
    "Y_train = df2_train['diagnosis']\n",
    "X_train = df2_train.loc[:, ~(df2_train.columns).isin(['diagnosis'])]\n",
    "Y_test = df2_test['diagnosis']\n",
    "X_test = df2_test.loc[:, ~(df2_test.columns).isin(['diagnosis'])]"
   ]
  },
  {
   "cell_type": "code",
   "execution_count": 4,
   "metadata": {},
   "outputs": [
    {
     "name": "stdout",
     "output_type": "stream",
     "text": [
      "\n",
      "R-squared regr\n",
      "0.7118303532542507\n",
      "\n",
      "R-squared regr\n",
      "0.63665110789687\n"
     ]
    }
   ],
   "source": [
    "#train linear regression\n",
    "regr = linear_model.LinearRegression()\n",
    "regr.fit(X_train,Y_train)\n",
    "print('\\nR-squared regr')\n",
    "print(regr.score(X_train,Y_train))\n",
    "\n",
    "#test linear regression\n",
    "print('\\nR-squared regr')\n",
    "print(regr.score(X_test,Y_test))"
   ]
  },
  {
   "cell_type": "code",
   "execution_count": 5,
   "metadata": {},
   "outputs": [
    {
     "name": "stdout",
     "output_type": "stream",
     "text": [
      "\n",
      "R-squared regr\n",
      "0.6867575100055208\n",
      "\n",
      "R-squared regr\n",
      "0.6454724979591079\n"
     ]
    }
   ],
   "source": [
    "#train ridge\n",
    "ridgeregr = linear_model.Ridge(alpha=.01, fit_intercept=False)\n",
    "ridgeregr.fit(X_train,Y_train)\n",
    "print('\\nR-squared regr')\n",
    "print(ridgeregr.score(X_train,Y_train))\n",
    "\n",
    "#test ridge\n",
    "print('\\nR-squared regr')\n",
    "print(ridgeregr.score(X_test,Y_test))"
   ]
  },
  {
   "cell_type": "code",
   "execution_count": 6,
   "metadata": {},
   "outputs": [
    {
     "name": "stdout",
     "output_type": "stream",
     "text": [
      "\n",
      "R-squared train:\n",
      "0.6506812508302292\n",
      "\n",
      "R-squared train:\n",
      "0.515935196268377\n"
     ]
    }
   ],
   "source": [
    "#train lasso model\n",
    "lass = linear_model.Lasso(alpha=.02)\n",
    "lass.fit(X_train, Y_train)\n",
    "print('\\nR-squared train:')\n",
    "print(lass.score(X_train, Y_train))\n",
    "\n",
    "#run lasso on test\n",
    "print('\\nR-squared train:')\n",
    "print(lass.score(X_test, Y_test))"
   ]
  },
  {
   "cell_type": "markdown",
   "metadata": {},
   "source": [
    "### Results\n",
    "\n",
    "Ridge performs slightly better and overfits less, lasso performs worse"
   ]
  },
  {
   "cell_type": "markdown",
   "metadata": {},
   "source": [
    "## NY Crime Data"
   ]
  },
  {
   "cell_type": "code",
   "execution_count": 7,
   "metadata": {},
   "outputs": [
    {
     "data": {
      "text/html": [
       "<div>\n",
       "<style scoped>\n",
       "    .dataframe tbody tr th:only-of-type {\n",
       "        vertical-align: middle;\n",
       "    }\n",
       "\n",
       "    .dataframe tbody tr th {\n",
       "        vertical-align: top;\n",
       "    }\n",
       "\n",
       "    .dataframe thead th {\n",
       "        text-align: right;\n",
       "    }\n",
       "</style>\n",
       "<table border=\"1\" class=\"dataframe\">\n",
       "  <thead>\n",
       "    <tr style=\"text-align: right;\">\n",
       "      <th></th>\n",
       "      <th>city</th>\n",
       "      <th>population</th>\n",
       "      <th>murder</th>\n",
       "      <th>robbery</th>\n",
       "      <th>property_crime</th>\n",
       "    </tr>\n",
       "  </thead>\n",
       "  <tbody>\n",
       "    <tr>\n",
       "      <th>0</th>\n",
       "      <td>Adams Village</td>\n",
       "      <td>1861</td>\n",
       "      <td>0</td>\n",
       "      <td>0</td>\n",
       "      <td>12</td>\n",
       "    </tr>\n",
       "    <tr>\n",
       "      <th>1</th>\n",
       "      <td>Addison Town and Village</td>\n",
       "      <td>2577</td>\n",
       "      <td>0</td>\n",
       "      <td>0</td>\n",
       "      <td>24</td>\n",
       "    </tr>\n",
       "    <tr>\n",
       "      <th>2</th>\n",
       "      <td>Akron Village</td>\n",
       "      <td>2846</td>\n",
       "      <td>0</td>\n",
       "      <td>0</td>\n",
       "      <td>16</td>\n",
       "    </tr>\n",
       "    <tr>\n",
       "      <th>3</th>\n",
       "      <td>Albany</td>\n",
       "      <td>97956</td>\n",
       "      <td>8</td>\n",
       "      <td>227</td>\n",
       "      <td>4090</td>\n",
       "    </tr>\n",
       "    <tr>\n",
       "      <th>4</th>\n",
       "      <td>Albion Village</td>\n",
       "      <td>6388</td>\n",
       "      <td>0</td>\n",
       "      <td>4</td>\n",
       "      <td>223</td>\n",
       "    </tr>\n",
       "  </tbody>\n",
       "</table>\n",
       "</div>"
      ],
      "text/plain": [
       "                       city  population  murder  robbery  property_crime\n",
       "0             Adams Village        1861       0        0              12\n",
       "1  Addison Town and Village        2577       0        0              24\n",
       "2             Akron Village        2846       0        0              16\n",
       "3                    Albany       97956       8      227            4090\n",
       "4            Albion Village        6388       0        4             223"
      ]
     },
     "execution_count": 7,
     "metadata": {},
     "output_type": "execute_result"
    }
   ],
   "source": [
    "raw_data = pd.read_csv('https://raw.githubusercontent.com/Thinkful-Ed/data-201-resources/master/New_York_offenses/NEW_YORK-Offenses_Known_to_Law_Enforcement_by_City_2013%20-%2013tbl8ny.csv',\n",
    "                      skiprows=[0,1,2,3])\n",
    "raw_data.columns =['city',\n",
    "                   'population',\n",
    "                   'violent_crime',\n",
    "                   'murder',\n",
    "                   'rape_def_1',\n",
    "                   'rape_def_2',\n",
    "                  'robbery',\n",
    "                  'aggravated_assault',\n",
    "                  'property_crime',\n",
    "                  'burglary',\n",
    "                  'larceny_theft',\n",
    "                  'motor_vehicle_theft',\n",
    "                  'arson']\n",
    "\n",
    "#set dataframe\n",
    "df = raw_data[['city', 'population']].copy()\n",
    "\n",
    "#get population^2 variable\n",
    "df = df.dropna(axis=0, subset=['population']) #drop nan values\n",
    "df['population'] = df['population'].str.replace(',', '') #get rid of commas\n",
    "df['population'] = df['population'].astype(str).astype(int) #from object cast to string then int\n",
    "#df['population_sq'] = df['population'] ** 2 #square column and put in new column\n",
    "\n",
    "#add other desired variables\n",
    "df['murder'], df['robbery'] = raw_data['murder'], raw_data['robbery']\n",
    "df.head()\n",
    "\n",
    "#prepare murder and robbery to be iterated on\n",
    "df['murder'] = df['murder'].astype(int)\n",
    "df['robbery'] = df['robbery'].str.replace(',', '')\n",
    "df['robbery'] = df['robbery'].astype(int)\n",
    "\n",
    "#change values to 0 or 1 for multivariable regression\n",
    "#df.loc[df['murder'] > 0, ['murder']] = 1\n",
    "#df.loc[df['robbery'] > 0, ['robbery']] = 1\n",
    "\n",
    "#add property crime variable\n",
    "df['property_crime'] = raw_data['property_crime']\n",
    "df['property_crime'] = df['property_crime'].str.replace(',', '') #get rid of commas\n",
    "df['property_crime'] = df['property_crime'].astype(int)\n",
    "\n",
    "#add some more variables for new regression\n",
    "#df['burglary'] = raw_data['burglary'].str.replace(',','')\n",
    "#df['burglary'] = df['burglary'].astype(int)\n",
    "#df.loc[df['burglary'] > 0, ['burglary']] = 1\n",
    "\n",
    "#df['motor_vehicle_theft'] = raw_data['motor_vehicle_theft'].str.replace(',','')\n",
    "#df['motor_vehicle_theft'] = df['motor_vehicle_theft'].astype(int)\n",
    "#df.loc[df['motor_vehicle_theft'] > 0, ['motor_vehicle_theft']] = 1\n",
    "\n",
    "#df['rape_def_2'] = raw_data['rape_def_2'].str.replace(',','')\n",
    "#df['rape_def_2'] = df['rape_def_2'].astype(int)\n",
    "#df.loc[df['rape_def_2'] > 0, ['rape_def_2']] = 1\n",
    "\n",
    "df.head()"
   ]
  },
  {
   "cell_type": "code",
   "execution_count": 8,
   "metadata": {},
   "outputs": [],
   "source": [
    "#create train and test sets\n",
    "trainsize = int(df.shape[0] / 2)\n",
    "df_test_crime = df.iloc[trainsize:, :].copy()\n",
    "df_train_crime = df.iloc[:trainsize, :].copy()\n",
    "\n",
    "#create data/target train and tests\n",
    "Y_train_crime = df_train_crime['property_crime']\n",
    "X_train_crime = df_train_crime.loc[:,\n",
    "                                   ~(df_train_crime.columns).isin(['property_crime'])]\n",
    "X_train_crime = X_train_crime.drop('city', 1)\n",
    "Y_test_crime = df_test_crime['property_crime']\n",
    "X_test_crime = df_test_crime.loc[:,\n",
    "                                 ~(df_test_crime.columns).isin(['property_crime'])]\n",
    "X_test_crime = X_test_crime.drop('city', 1)"
   ]
  },
  {
   "cell_type": "code",
   "execution_count": 9,
   "metadata": {},
   "outputs": [
    {
     "name": "stdout",
     "output_type": "stream",
     "text": [
      "\n",
      "R-squared regr\n",
      "0.9684363395770053\n",
      "\n",
      "R-squared regr\n",
      "-0.8761937791325166\n"
     ]
    }
   ],
   "source": [
    "regr.fit(X_train_crime,Y_train_crime)\n",
    "print('\\nR-squared regr')\n",
    "print(regr.score(X_train_crime,Y_train_crime))\n",
    "\n",
    "#test linear regression\n",
    "print('\\nR-squared regr')\n",
    "print(regr.score(X_test_crime,Y_test_crime))"
   ]
  },
  {
   "cell_type": "code",
   "execution_count": 10,
   "metadata": {},
   "outputs": [
    {
     "name": "stdout",
     "output_type": "stream",
     "text": [
      "\n",
      "R-squared ridge train\n",
      "0.9683497990655007\n",
      "\n",
      "R-squared ridge test\n",
      "-0.8525795342954146\n"
     ]
    }
   ],
   "source": [
    "#train ridge\n",
    "ridgeregr.fit(X_train_crime,Y_train_crime)\n",
    "print('\\nR-squared ridge train')\n",
    "print(ridgeregr.score(X_train_crime,Y_train_crime))\n",
    "\n",
    "#test ridge\n",
    "print('\\nR-squared ridge test')\n",
    "print(ridgeregr.score(X_test_crime,Y_test_crime))"
   ]
  },
  {
   "cell_type": "code",
   "execution_count": 11,
   "metadata": {},
   "outputs": [
    {
     "name": "stdout",
     "output_type": "stream",
     "text": [
      "\n",
      "R-squared lasso train:\n",
      "0.9684363374533491\n",
      "\n",
      "R-squared lasso test:\n",
      "-0.8755187247566971\n"
     ]
    },
    {
     "name": "stderr",
     "output_type": "stream",
     "text": [
      "/anaconda3/lib/python3.6/site-packages/sklearn/linear_model/coordinate_descent.py:491: ConvergenceWarning: Objective did not converge. You might want to increase the number of iterations. Fitting data with very small alpha may cause precision problems.\n",
      "  ConvergenceWarning)\n"
     ]
    }
   ],
   "source": [
    "#train lasso model\n",
    "lass.fit(X_train_crime, Y_train_crime)\n",
    "print('\\nR-squared lasso train:')\n",
    "print(lass.score(X_train_crime, Y_train_crime))\n",
    "\n",
    "#run lasso on test\n",
    "print('\\nR-squared lasso test:')\n",
    "print(lass.score(X_test_crime, Y_test_crime))"
   ]
  },
  {
   "cell_type": "code",
   "execution_count": 19,
   "metadata": {},
   "outputs": [
    {
     "name": "stdout",
     "output_type": "stream",
     "text": [
      "[0.9375     0.89361702 0.94680851]\n"
     ]
    }
   ],
   "source": [
    "from sklearn import ensemble\n",
    "from sklearn.model_selection import cross_val_score\n",
    "\n",
    "rfc = ensemble.RandomForestClassifier()\n",
    "\n",
    "print(cross_val_score(rfc, X_train, Y_train, cv=3))"
   ]
  },
  {
   "cell_type": "code",
   "execution_count": null,
   "metadata": {},
   "outputs": [],
   "source": []
  }
 ],
 "metadata": {
  "kernelspec": {
   "display_name": "Python 3",
   "language": "python",
   "name": "python3"
  },
  "language_info": {
   "codemirror_mode": {
    "name": "ipython",
    "version": 3
   },
   "file_extension": ".py",
   "mimetype": "text/x-python",
   "name": "python",
   "nbconvert_exporter": "python",
   "pygments_lexer": "ipython3",
   "version": "3.6.4"
  }
 },
 "nbformat": 4,
 "nbformat_minor": 2
}
