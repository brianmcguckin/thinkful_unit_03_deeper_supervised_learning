{
 "cells": [
  {
   "cell_type": "code",
   "execution_count": 1,
   "metadata": {},
   "outputs": [],
   "source": [
    "import pandas as pd\n",
    "from matplotlib import pyplot as plt\n",
    "import numpy as np\n",
    "import math\n",
    "import seaborn as sns\n",
    "import sklearn\n",
    "from sklearn import linear_model\n",
    "from sklearn import preprocessing\n",
    "%matplotlib inline\n",
    "sns.set_style('white')"
   ]
  },
  {
   "cell_type": "markdown",
   "metadata": {},
   "source": [
    "## Lasso Regression\n",
    "\n",
    "__LASSO:__ Least Absolute Shrinkage and Selection Operator\n",
    "- Ridge regression shrinks parameter estimates, but estimates never reach 0\n",
    "- Lasso optimization tries to force small parameter estimates to equal 0 (effectively dropping them from the model)\n",
    "- Can prevent overfitting\n",
    "- Works as an embedded feature selection method\n",
    "- Good for handling thousands (or hundreds of thousands) of predictors and need to optimize processor time\n",
    "- Also good for arriving at simpler, easier to interpret solutions\n",
    "$$\\sum_{i=1}^n(y_i-(\\alpha+\\beta x_i))^2+\\lambda\\sum_{j=1}^p|\\beta_j|$$\n",
    "\n",
    "Lasso penalizes the sum of the absolute values the coefficients as opposed to penalizing the sum of squared coefficients (ridge). Penalty doesn't increase as swiftly with coefficient size."
   ]
  },
  {
   "cell_type": "markdown",
   "metadata": {},
   "source": [
    "## Fitting Lasso: Coordinate Descent Algorithm\n",
    "\n",
    "Pick starting value for $\\beta$, often $\\beta=0$\n",
    "\n",
    "For each feature $j$ in $\\beta$:\n",
    "- Predict the outcome using all features except for $j$\n",
    "- Look at how residuals from model using all $\\beta$s (except $j$) correlate with feature $j$, called $\\rho_j$\n",
    "- If correlation falls within an area enclosing 0 defined by $\\lambda$, set $\\beta_j=0$ (soft thresholding)\n",
    "- if $\\rho_j<\\lambda/2$, then $\\beta_j=\\rho_j+\\lambda/2$\n",
    "- if $\\rho_j>\\lambda/2$, then $\\beta_j=\\rho_j-\\lambda/2$\n",
    "\n",
    "This iterates through all features 1 through $j$ on each cycle, then begins again. The algorithm can also be set to choose to exclude a feature at random each iteration). Each time a feature is checked it shrinks a little from the previous time it was checked (unless it is already set to 0, which it will remain). The algorithm runs until the maximum difference between parameter estimates in the previous and current cycle is less than a pre-determined threshold $tol$\n",
    "- SKlearn default $tol=0.0001$"
   ]
  },
  {
   "cell_type": "code",
   "execution_count": 2,
   "metadata": {},
   "outputs": [
    {
     "name": "stdout",
     "output_type": "stream",
     "text": [
      "  default student      balance        income\n",
      "0      No      No   729.526495  44361.625074\n",
      "1      No     Yes   817.180407  12106.134700\n",
      "2      No      No  1073.549164  31767.138947\n",
      "3      No      No   529.250605  35704.493935\n",
      "4      No      No   785.655883  38463.495879\n"
     ]
    }
   ],
   "source": [
    "#load data, drop index column and missing data columns\n",
    "df = pd.read_csv(\n",
    "    'https://vincentarelbundock.github.io/Rdatasets/csv/ISLR/Default.csv'\n",
    ").iloc[:,1:].dropna()\n",
    "print(df.head())\n",
    "\n",
    "#recode strings to numeric\n",
    "df['default'] = np.where(df['default'] == 'Yes', 1, 0)\n",
    "df['student'] = np.where(df['student'] == 'Yes', 1, 0)\n",
    "names = df.columns\n",
    "df = pd.DataFrame(preprocessing.scale(df), columns=names)\n",
    "\n",
    "#define train and test sizes\n",
    "trainsize = int(df.shape[0] / 2)\n",
    "df_test = df.iloc[trainsize:, :].copy()\n",
    "df_train = df.iloc[:trainsize, :].copy()\n",
    "\n",
    "Y_train = df_train['income'].values.reshape(-1,1)\n",
    "X_train = df_train.loc[:,~(df_train.columns).isin(['income'])]\n",
    "\n",
    "#make some new features to capture potential quadratic and cubic relationships\n",
    "df_train['balance_student'] = df_train['balance'] * df_train['student']\n",
    "df_train['balance_default'] = df_train['balance'] * df_train['default']\n",
    "df_train['student_default'] = df_train['student'] * df_train['default']\n",
    "df_train['balance_sqrt'] = (df_train['balance'] + 100) ** .5\n",
    "df_train['balance2'] = (df_train['balance'] + 100) ** 2\n",
    "df_train['balance3'] = (df_train['balance'] + 100) ** 3\n",
    "\n",
    "X_train2 = df_train.loc[:,~(df_train.columns).isin(['income'])]\n",
    "\n",
    "#test simple model with smaller coefficients\n",
    "Y_test = df_test['income'].values.reshape(-1,1)\n",
    "X_test = df_test.loc[:,~(df_test.columns).isin(['income'])]\n",
    "\n",
    "#test more complex model with larger coefficients\n",
    "df_test['balance_student'] = df_test['balance'] * df_test['student']\n",
    "df_test['balance_default'] = df_test['balance'] * df_test['default']\n",
    "df_test['student_default'] = df_test['student'] * df_test['default']\n",
    "df_test['balance_sqrt'] = (df_test['balance'] + 100) ** .5\n",
    "df_test['balance2'] = (df_test['balance'] + 100) ** 2\n",
    "df_test['balance3'] = (df_test['balance'] + 100) ** 3\n",
    "X_test2 = df_test.loc[:, ~(df_test.columns).isin(['income'])]"
   ]
  },
  {
   "cell_type": "code",
   "execution_count": 3,
   "metadata": {},
   "outputs": [
    {
     "name": "stdout",
     "output_type": "stream",
     "text": [
      "R-squared for model with few features:\n",
      "0.450062579301185\n",
      "\n",
      "Parameter estimates for the model with few features:\n",
      "[-0.         -0.40657726 -0.          0.00114596]\n",
      "R-squared for model with many features:\n",
      "0.44363376712897085\n",
      "\n",
      "Parameter estimates for the model with many features:\n",
      "[ 0.00000000e+00 -3.89351238e-01  0.00000000e+00 -0.00000000e+00\n",
      "  0.00000000e+00 -0.00000000e+00  0.00000000e+00 -2.77688887e-04\n",
      " -7.09158792e-07  3.48711577e+00]\n"
     ]
    }
   ],
   "source": [
    "#small number of parameters\n",
    "lass = linear_model.Lasso(alpha=.35)\n",
    "lassfit = lass.fit(X_train, Y_train)\n",
    "print('R-squared for model with few features:')\n",
    "print(lass.score(X_train, Y_train))\n",
    "origparams = np.append(lassfit.coef_, lassfit.intercept_)\n",
    "print('\\nParameter estimates for the model with few features:')\n",
    "print(origparams)\n",
    "\n",
    "#large number of parameters\n",
    "lassBig = linear_model.Lasso(alpha=.35)\n",
    "lassBig.fit(X_train2, Y_train)\n",
    "print('R-squared for model with many features:')\n",
    "print(lassBig.score(X_train2, Y_train))\n",
    "origparams = np.append(lassBig.coef_, lassBig.intercept_)\n",
    "print('\\nParameter estimates for the model with many features:')\n",
    "print(origparams)"
   ]
  },
  {
   "cell_type": "code",
   "execution_count": 4,
   "metadata": {},
   "outputs": [
    {
     "name": "stdout",
     "output_type": "stream",
     "text": [
      "0.44553225151184195\n",
      "0.4380466345914476\n"
     ]
    }
   ],
   "source": [
    "#check with test set\n",
    "print(lass.score(X_test,Y_test))\n",
    "print(lassBig.score(X_test2,Y_test))"
   ]
  },
  {
   "cell_type": "markdown",
   "metadata": {},
   "source": [
    "## Regularization parameter: Lasso\n",
    "\n",
    "The $\\lambda$ for lasso can var between 0 and infinity, if $\\lambda$ is too large, all parameters will be set to zero. \n",
    "\n",
    "Create a plot below of how $R^2$ varies across different values of $\\lambda$ for ridge and lasso regression. Use logic and code similar to the ridge regression demonstration above, and base your plot on the X_train2 feature set.\n",
    "\n",
    "Do lasso and ridge yield the same $R^2$ for a given lambda value?"
   ]
  },
  {
   "cell_type": "code",
   "execution_count": 5,
   "metadata": {},
   "outputs": [
    {
     "name": "stdout",
     "output_type": "stream",
     "text": [
      "R-squared for model with many features:\n",
      "0.573825601682644\n"
     ]
    }
   ],
   "source": [
    "lassBig = linear_model.Lasso(alpha=.0075)\n",
    "lassBig.fit(X_train2, Y_train)\n",
    "print('R-squared for model with many features:')\n",
    "print(lassBig.score(X_train2, Y_train))"
   ]
  },
  {
   "cell_type": "code",
   "execution_count": 6,
   "metadata": {},
   "outputs": [
    {
     "data": {
      "image/png": "[encoded data removed]",
      "text/plain": [
       "<matplotlib.figure.Figure at 0x10d3c4d68>"
      ]
     },
     "metadata": {},
     "output_type": "display_data"
    }
   ],
   "source": [
    "rvals_lasso = []\n",
    "\n",
    "for lambd in np.arange(.01,1,.05):\n",
    "    lassBig = linear_model.Lasso(alpha=lambd)\n",
    "    lassBig.fit(X_train2,Y_train)\n",
    "    rvals_lasso.append([lambd, lassBig.score(X_train2, Y_train)])\n",
    "\n",
    "lass_df = pd.DataFrame(\n",
    "    rvals_lasso,\n",
    "    columns=['lambda']+['r-squared'])\n",
    "lass_df.sort_values(by='lambda', inplace=True, ascending=True)\n",
    "\n",
    "plt.plot(lass_df['lambda'], lass_df['r-squared'])\n",
    "plt.xlabel('lambda')\n",
    "plt.ylabel('r-squared')\n",
    "plt.title('Lasso')\n",
    "plt.show()"
   ]
  },
  {
   "cell_type": "code",
   "execution_count": 7,
   "metadata": {},
   "outputs": [
    {
     "data": {
      "image/png": "[encoded data removed]",
      "text/plain": [
       "<matplotlib.figure.Figure at 0x110addf60>"
      ]
     },
     "metadata": {},
     "output_type": "display_data"
    }
   ],
   "source": [
    "rvals_ridge = []\n",
    "\n",
    "for lambd in np.arange(1,50,2):\n",
    "    ridgeBig = linear_model.Ridge(alpha=lambd, fit_intercept=False)\n",
    "    ridgeBig.fit(X_train2,Y_train)\n",
    "    rvals_ridge.append([lambd, ridgeBig.score(X_train2, Y_train)])\n",
    "\n",
    "ridge_df = pd.DataFrame(\n",
    "    rvals_ridge,\n",
    "    columns=['lambda']+['r-squared'])\n",
    "ridge_df.sort_values(by='lambda', inplace=True, ascending=True)\n",
    "\n",
    "plt.plot(ridge_df['lambda'], ridge_df['r-squared'])\n",
    "plt.xlabel('lambda')\n",
    "plt.ylabel('r-squared')\n",
    "plt.title('Ridge')\n",
    "plt.show()"
   ]
  }
 ],
 "metadata": {
  "kernelspec": {
   "display_name": "Python 3",
   "language": "python",
   "name": "python3"
  },
  "language_info": {
   "codemirror_mode": {
    "name": "ipython",
    "version": 3
   },
   "file_extension": ".py",
   "mimetype": "text/x-python",
   "name": "python",
   "nbconvert_exporter": "python",
   "pygments_lexer": "ipython3",
   "version": "3.6.4"
  }
 },
 "nbformat": 4,
 "nbformat_minor": 2
}
