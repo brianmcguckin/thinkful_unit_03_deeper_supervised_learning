{
 "cells": [
  {
   "cell_type": "code",
   "execution_count": 1,
   "metadata": {},
   "outputs": [],
   "source": [
    "import math\n",
    "import warnings\n",
    "\n",
    "from IPython.display import display\n",
    "from matplotlib import pyplot as plt\n",
    "import numpy as np\n",
    "import pandas as pd\n",
    "import seaborn as sns\n",
    "from sklearn import linear_model\n",
    "import statsmodels.formula.api as smf\n",
    "from statsmodels.sandbox.regression.predstd import wls_prediction_std\n",
    "\n",
    "# Display preferences.\n",
    "%matplotlib inline\n",
    "pd.options.display.float_format = '{:.3f}'.format\n",
    "\n",
    "# Suppress annoying harmless error.\n",
    "warnings.filterwarnings(\n",
    "    action=\"ignore\",\n",
    "    module=\"scipy\",\n",
    "    message=\"^internal gelsd\"\n",
    ")"
   ]
  },
  {
   "cell_type": "markdown",
   "metadata": {},
   "source": [
    "Find a data set and build a KNN Regression and an OLS regression. Compare the two. How similar are they? Do they miss in different ways?\n",
    "\n",
    "At the end in a markdown cell write a few paragraphs to describe the models' behaviors and why you favor one model or the other. Try to determine whether there is a situation where you would change your mind, or whether one is unambiguously better than the other. Lastly, try to note what it is about the data that causes the better model to outperform the weaker model."
   ]
  },
  {
   "cell_type": "markdown",
   "metadata": {},
   "source": [
    "## Dataset\n",
    "\n",
    "Using state crime data from Unit 02"
   ]
  },
  {
   "cell_type": "code",
   "execution_count": 7,
   "metadata": {},
   "outputs": [],
   "source": [
    "raw_data = pd.read_csv('https://raw.githubusercontent.com/Thinkful-Ed/data-201-resources/master/New_York_offenses/NEW_YORK-Offenses_Known_to_Law_Enforcement_by_City_2013%20-%2013tbl8ny.csv',\n",
    "                      skiprows=[0,1,2,3])\n",
    "raw_data.columns =['city',\n",
    "                   'population',\n",
    "                   'violent_crime',\n",
    "                   'murder',\n",
    "                   'rape_def_1',\n",
    "                   'rape_def_2',\n",
    "                  'robbery',\n",
    "                  'aggravated_assault',\n",
    "                  'property_crime',\n",
    "                  'burglary',\n",
    "                  'larceny_theft',\n",
    "                  'motor_vehicle_theft',\n",
    "                  'arson']"
   ]
  },
  {
   "cell_type": "code",
   "execution_count": 22,
   "metadata": {},
   "outputs": [
    {
     "data": {
      "text/plain": [
       "0"
      ]
     },
     "execution_count": 22,
     "metadata": {},
     "output_type": "execute_result"
    }
   ],
   "source": [
    "#set df to clean and manipulate for regression\n",
    "df = raw_data[['city',\n",
    "               'population',\n",
    "               'violent_crime',\n",
    "               'murder',\n",
    "               'rape_def_2',\n",
    "               'robbery',\n",
    "               'aggravated_assault',\n",
    "               'property_crime']]\n",
    "\n",
    "#create population squared variable\n",
    "df = df.dropna(axis=0, subset=['population']) #drop nan values\n",
    "df['population'] = df['population'].str.replace(',', '') #get rid of commas\n",
    "df['population'] = df['population'].astype(str).astype(int) #from object cast to string then int\n",
    "df['population_sq'] = df['population'] ** 2 #square column and put in new column\n",
    "\n",
    "#cleaning\n",
    "df['violent_crime'] = df['violent_crime'].str.replace(',','').astype(int)\n",
    "df['murder'] = df['murder'].astype(int)\n",
    "df['rape_def_2'] = df['rape_def_2'].str.replace(',','').astype(int)\n",
    "df['robbery'] = df['robbery'].str.replace(',','').astype(int)\n",
    "df['aggravated_assault'] = df['aggravated_assault'].str.replace(',','').astype(int)\n",
    "df['property_crime'] = df['property_crime'].str.replace(',','').astype(int)\n",
    "\n",
    "#print(df.dtypes)\n",
    "#df.head()\n",
    "df['murder'].min()"
   ]
  },
  {
   "cell_type": "code",
   "execution_count": 16,
   "metadata": {},
   "outputs": [],
   "source": [
    "#second df changing crime stat variable values to 0 or 1\n",
    "#except aggregates violent_crime and property_crime\n",
    "df2 = df\n",
    "df2.loc[df2['murder'] > 0, ['murder']] = 1\n",
    "df2.loc[df2['rape_def_2'] > 0, ['rape_def_2']] = 1\n",
    "df2.loc[df2['robbery'] > 0, ['robbery']] = 1\n",
    "df2.loc[df2['aggravated_assault'] > 0, ['aggravated_assault']] = 1\n",
    "\n",
    "#also exclude outliers outside of 3 std devs\n",
    "#df2 = df2[np.abs(df2.population - df2.population.mean()) <= (3 * df2.population.std())]\n",
    "#df2"
   ]
  },
  {
   "cell_type": "markdown",
   "metadata": {},
   "source": [
    "## KNN Regression"
   ]
  },
  {
   "cell_type": "code",
   "execution_count": 49,
   "metadata": {},
   "outputs": [
    {
     "name": "stdout",
     "output_type": "stream",
     "text": [
      "[0.46048    0.70524944 0.68100566 0.03460983 0.54812179]\n",
      "Unweighted Accuracy: 0.49 (+/- 0.49)\n",
      "[0.55572838 0.68023505 0.64122587 0.03454364 0.34655852]\n",
      "Unweighted Accuracy: 0.45 (+/- 0.48)\n"
     ]
    }
   ],
   "source": [
    "from sklearn import neighbors\n",
    "\n",
    "#instantiate and fit knn and weighted knn\n",
    "knn = neighbors.KNeighborsRegressor(n_neighbors=10)\n",
    "knn_w = neighbors.KNeighborsRegressor(n_neighbors=10, weights='distance')\n",
    "X = pd.DataFrame(df2[['murder','rape_def_2','population_sq']])\n",
    "Y = df2[['property_crime']]\n",
    "knn.fit(X,Y)\n",
    "knn_w.fit(X,Y)\n",
    "\n",
    "#set prediction lines\n",
    "T_mur = np.arange(0,1,.01)[:, np.newaxis]\n",
    "T_rape = np.arange(0,1,.01)[:, np.newaxis]\n",
    "T_popsq = np.arange(0,1,.01)[:, np.newaxis]\n",
    "T_concat = np.c_[T_mur,T_rape,T_popsq]\n",
    "#print(np.shape(T_mur))\n",
    "#print(np.shape(T_rape))\n",
    "\n",
    "Y_ = knn.predict(T_concat)\n",
    "Y_w = knn_w.predict(T_concat)\n",
    "\n",
    "from sklearn.model_selection import cross_val_score\n",
    "score = cross_val_score(knn,X,Y,cv=5)\n",
    "print(score)\n",
    "print(\"Unweighted Accuracy: %0.2f (+/- %0.2f)\" % (score.mean(), score.std() * 2))\n",
    "score_w = cross_val_score(knn_w,X,Y,cv=5)\n",
    "print(score_w)\n",
    "print(\"Unweighted Accuracy: %0.2f (+/- %0.2f)\" % (score_w.mean(), score_w.std() * 2))"
   ]
  },
  {
   "cell_type": "markdown",
   "metadata": {},
   "source": [
    "## OLS Regression"
   ]
  },
  {
   "cell_type": "code",
   "execution_count": 50,
   "metadata": {},
   "outputs": [
    {
     "name": "stdout",
     "output_type": "stream",
     "text": [
      "[ 2.00590045e-01 -5.65262233e-01 -3.77319209e-01 -6.09316317e+03\n",
      "  3.35499989e-01]\n",
      "OLS Accuracy: -1218.71 (+/- 4874.45)\n"
     ]
    }
   ],
   "source": [
    "#instantiate and fit linear regression\n",
    "regr = linear_model.LinearRegression()\n",
    "regr.fit(X,Y)\n",
    "\n",
    "score_ols = cross_val_score(regr,X,Y,cv=5)\n",
    "print(score_ols)\n",
    "print(\"OLS Accuracy: %0.2f (+/- %0.2f)\" % (score_ols.mean(), score_ols.std() * 2))"
   ]
  },
  {
   "cell_type": "code",
   "execution_count": 56,
   "metadata": {},
   "outputs": [
    {
     "name": "stdout",
     "output_type": "stream",
     "text": [
      "Intercept         70.463\n",
      "murder          1107.813\n",
      "rape_def_2       388.419\n",
      "population_sq      0.000\n",
      "dtype: float64\n",
      "Intercept       0.268\n",
      "murder          0.000\n",
      "rape_def_2      0.000\n",
      "population_sq   0.000\n",
      "dtype: float64\n",
      "0.9861887237802198\n",
      "                    0        1\n",
      "Intercept     -54.349  195.275\n",
      "murder        809.246 1406.380\n",
      "rape_def_2    179.042  597.796\n",
      "population_sq   0.000    0.000\n"
     ]
    }
   ],
   "source": [
    "linear_formula = 'property_crime ~ murder+rape_def_2+population_sq'\n",
    "lm = smf.ols(formula=linear_formula, data=df2).fit()\n",
    "\n",
    "print(lm.params)\n",
    "print(lm.pvalues)\n",
    "print(lm.rsquared)\n",
    "print(lm.conf_int())"
   ]
  },
  {
   "cell_type": "code",
   "execution_count": null,
   "metadata": {},
   "outputs": [],
   "source": []
  }
 ],
 "metadata": {
  "kernelspec": {
   "display_name": "Python 3",
   "language": "python",
   "name": "python3"
  },
  "language_info": {
   "codemirror_mode": {
    "name": "ipython",
    "version": 3
   },
   "file_extension": ".py",
   "mimetype": "text/x-python",
   "name": "python",
   "nbconvert_exporter": "python",
   "pygments_lexer": "ipython3",
   "version": "3.6.4"
  }
 },
 "nbformat": 4,
 "nbformat_minor": 2
}
