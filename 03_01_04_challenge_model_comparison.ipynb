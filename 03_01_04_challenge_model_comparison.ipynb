{
 "cells": [
  {
   "cell_type": "code",
   "execution_count": 1,
   "metadata": {},
   "outputs": [],
   "source": [
    "import math\n",
    "import warnings\n",
    "\n",
    "from IPython.display import display\n",
    "from matplotlib import pyplot as plt\n",
    "import numpy as np\n",
    "import pandas as pd\n",
    "import seaborn as sns\n",
    "from sklearn import linear_model\n",
    "import statsmodels.formula.api as smf\n",
    "from statsmodels.sandbox.regression.predstd import wls_prediction_std\n",
    "\n",
    "# Display preferences.\n",
    "%matplotlib inline\n",
    "pd.options.display.float_format = '{:.3f}'.format\n",
    "\n",
    "# Suppress annoying harmless error.\n",
    "warnings.filterwarnings(\n",
    "    action=\"ignore\",\n",
    "    module=\"scipy\",\n",
    "    message=\"^internal gelsd\"\n",
    ")"
   ]
  },
  {
   "cell_type": "markdown",
   "metadata": {},
   "source": [
    "Find a data set and build a KNN Regression and an OLS regression. Compare the two. How similar are they? Do they miss in different ways?\n",
    "\n",
    "At the end in a markdown cell write a few paragraphs to describe the models' behaviors and why you favor one model or the other. Try to determine whether there is a situation where you would change your mind, or whether one is unambiguously better than the other. Lastly, try to note what it is about the data that causes the better model to outperform the weaker model."
   ]
  },
  {
   "cell_type": "markdown",
   "metadata": {},
   "source": [
    "## Dataset\n",
    "\n",
    "Using state crime data from Unit 02"
   ]
  },
  {
   "cell_type": "code",
   "execution_count": 2,
   "metadata": {},
   "outputs": [],
   "source": [
    "raw_data = pd.read_csv('https://raw.githubusercontent.com/Thinkful-Ed/data-201-resources/master/New_York_offenses/NEW_YORK-Offenses_Known_to_Law_Enforcement_by_City_2013%20-%2013tbl8ny.csv',\n",
    "                      skiprows=[0,1,2,3])\n",
    "raw_data.columns =['city',\n",
    "                   'population',\n",
    "                   'violent_crime',\n",
    "                   'murder',\n",
    "                   'rape_def_1',\n",
    "                   'rape_def_2',\n",
    "                  'robbery',\n",
    "                  'aggravated_assault',\n",
    "                  'property_crime',\n",
    "                  'burglary',\n",
    "                  'larceny_theft',\n",
    "                  'motor_vehicle_theft',\n",
    "                  'arson']"
   ]
  },
  {
   "cell_type": "code",
   "execution_count": 3,
   "metadata": {},
   "outputs": [],
   "source": [
    "#clean first df, leave aggregate numbers and outliers\n",
    "#this will probably not have very good results\n",
    "df = raw_data[['city',\n",
    "               'population',\n",
    "               'violent_crime',\n",
    "               'murder',\n",
    "               'rape_def_2',\n",
    "               'robbery',\n",
    "               'aggravated_assault',\n",
    "               'property_crime']]\n",
    "\n",
    "#create population squared variable\n",
    "df = df.dropna(axis=0, subset=['population']) #drop nan values\n",
    "df['population'] = df['population'].str.replace(',', '') #get rid of commas\n",
    "df['population'] = df['population'].astype(str).astype(int) #from object cast to string then int\n",
    "df['population_sq'] = df['population'] ** 2 #square column and put in new column\n",
    "\n",
    "#cleaning\n",
    "df['violent_crime'] = df['violent_crime'].str.replace(',','').astype(int)\n",
    "df['murder'] = df['murder'].astype(int)\n",
    "df['rape_def_2'] = df['rape_def_2'].str.replace(',','').astype(int)\n",
    "df['robbery'] = df['robbery'].str.replace(',','').astype(int)\n",
    "df['aggravated_assault'] = df['aggravated_assault'].str.replace(',','').astype(int)\n",
    "df['property_crime'] = df['property_crime'].str.replace(',','').astype(int)"
   ]
  },
  {
   "cell_type": "code",
   "execution_count": 4,
   "metadata": {
    "scrolled": false
   },
   "outputs": [],
   "source": [
    "#second df with additional cleaning should yield better results\n",
    "df2 = df\n",
    "\n",
    "#handling outliers outside 2 std devs\n",
    "#ONLY RUN THIS ONCE OR ELSE IT WILL KEEP ELIMINATING OUTLIERS\n",
    "#AND EVENTUALLY ERROR\n",
    "df2['population'] = df2.population.map(\n",
    "    lambda x: x if x < (df2['population'].median()\n",
    "                        + (2 * df2['population'].std())) else None)\n",
    "df2['murder'] = df2.murder.map(\n",
    "    lambda x: x if x < (df2['murder'].median()\n",
    "                        + (2 * df2['murder'].std())) else None)\n",
    "df2['rape_def_2'] = df2.rape_def_2.map(\n",
    "    lambda x: x if x < (df2['rape_def_2'].median()\n",
    "                        + (2 * df2['rape_def_2'].std())) else None)\n",
    "df2['robbery'] = df2.robbery.map(\n",
    "    lambda x: x if x < (df2['robbery'].median()\n",
    "                        + (2 * df2['robbery'].std())) else None)\n",
    "df2['property_crime'] = df2.property_crime.map(\n",
    "    lambda x: x if x < (df2['property_crime'].median()\n",
    "                        + (2 * df2['property_crime'].std())) else None)"
   ]
  },
  {
   "cell_type": "code",
   "execution_count": 5,
   "metadata": {},
   "outputs": [],
   "source": [
    "#change crime stat variables to 0 or 1 while dropping nans\n",
    "df2['murder'] = df2['murder'].dropna().map(lambda x: 1 if x>0 else 0)\n",
    "df2['rape_def_2'] = df2['rape_def_2'].dropna().map(lambda x: 1 if x>0 else 0)\n",
    "df2['robbery'] = df2['robbery'].dropna().map(lambda x: 1 if x>0 else 0)"
   ]
  },
  {
   "cell_type": "code",
   "execution_count": 6,
   "metadata": {},
   "outputs": [
    {
     "name": "stderr",
     "output_type": "stream",
     "text": [
      "/anaconda3/lib/python3.6/site-packages/ipykernel_launcher.py:5: SettingWithCopyWarning: \n",
      "A value is trying to be set on a copy of a slice from a DataFrame.\n",
      "Try using .loc[row_indexer,col_indexer] = value instead\n",
      "\n",
      "See the caveats in the documentation: http://pandas.pydata.org/pandas-docs/stable/indexing.html#indexing-view-versus-copy\n",
      "  \"\"\"\n"
     ]
    }
   ],
   "source": [
    "#not sure why this is necessary here given previous nan handling\n",
    "#dropna and fillna methods won't work for some reason\n",
    "\n",
    "df2 = df2.dropna(axis=0, subset=['population'])\n",
    "df2['population'] = df2['population'].astype(int)\n",
    "df2 = df2.dropna(axis=0, subset=['murder'])\n",
    "df2['murder'] = df2['murder'].astype(int)\n",
    "df2 = df2.dropna(axis=0, subset=['rape_def_2'])\n",
    "df2['rape_def_2'] = df2['rape_def_2'].astype(int)\n",
    "df2 = df2.dropna(axis=0, subset=['robbery'])\n",
    "df2['robbery'] = df2['robbery'].astype(int)"
   ]
  },
  {
   "cell_type": "markdown",
   "metadata": {},
   "source": [
    "## KNN Regression"
   ]
  },
  {
   "cell_type": "code",
   "execution_count": 7,
   "metadata": {},
   "outputs": [
    {
     "name": "stdout",
     "output_type": "stream",
     "text": [
      "[0.79348795 0.72020588 0.66293921 0.43685177 0.58827965]\n",
      "Unweighted Accuracy: 0.64 (+/- 0.24)\n",
      "[0.77144043 0.6729762  0.60792131 0.47524185 0.59311915]\n",
      "Weighted Accuracy: 0.62 (+/- 0.19)\n"
     ]
    }
   ],
   "source": [
    "from sklearn import neighbors\n",
    "\n",
    "#instantiate and fit knn and weighted knn\n",
    "knn = neighbors.KNeighborsRegressor(n_neighbors=10)\n",
    "knn_w = neighbors.KNeighborsRegressor(n_neighbors=10, weights='distance')\n",
    "X = pd.DataFrame(df2[['murder','rape_def_2','population']])\n",
    "Y = df2[['property_crime']]\n",
    "knn.fit(X,Y)\n",
    "knn_w.fit(X,Y)\n",
    "\n",
    "#set prediction lines\n",
    "T_mur = np.arange(0,1,.01)[:, np.newaxis]\n",
    "T_rape = np.arange(0,1,.01)[:, np.newaxis]\n",
    "T_popsq = np.arange(0,1,.01)[:, np.newaxis]\n",
    "T_concat = np.c_[T_mur,T_rape,T_popsq]\n",
    "\n",
    "#predictions\n",
    "Y_ = knn.predict(T_concat)\n",
    "Y_w = knn_w.predict(T_concat)\n",
    "\n",
    "from sklearn.model_selection import cross_val_score\n",
    "score = cross_val_score(knn,X,Y,cv=5)\n",
    "print(score)\n",
    "print(\"Unweighted Accuracy: %0.2f (+/- %0.2f)\" % (score.mean(), score.std() * 2))\n",
    "score_w = cross_val_score(knn_w,X,Y,cv=5)\n",
    "print(score_w)\n",
    "print(\"Weighted Accuracy: %0.2f (+/- %0.2f)\" % (score_w.mean(), score_w.std() * 2))"
   ]
  },
  {
   "cell_type": "markdown",
   "metadata": {},
   "source": [
    "## Linear/OLS Regression"
   ]
  },
  {
   "cell_type": "code",
   "execution_count": 8,
   "metadata": {},
   "outputs": [
    {
     "name": "stdout",
     "output_type": "stream",
     "text": [
      "Coefficients: \n",
      " [[1.76375222e+02 8.66344749e+01 2.17209498e-02]]\n",
      "Intercept: \n",
      " [-55.32817199]\n",
      "R-squared: \n",
      " 0.7116312129411614\n",
      "Cross validation: \n",
      " [0.79649585 0.73717039 0.69282601 0.50199927 0.68048552]\n"
     ]
    }
   ],
   "source": [
    "#instantiate and fit linear regression\n",
    "regr = linear_model.LinearRegression()\n",
    "X = pd.DataFrame(df2[['murder','rape_def_2','population']])\n",
    "Y = df2[['property_crime']]\n",
    "regr.fit(X,Y)\n",
    "\n",
    "#inspect results\n",
    "print('Coefficients: \\n', regr.coef_)\n",
    "print('Intercept: \\n', regr.intercept_)\n",
    "print('R-squared: \\n', regr.score(X,Y))\n",
    "\n",
    "score_regr = cross_val_score(regr,X,Y,cv=5)\n",
    "print('Cross validation: \\n', score_regr)"
   ]
  },
  {
   "cell_type": "code",
   "execution_count": 17,
   "metadata": {},
   "outputs": [
    {
     "name": "stdout",
     "output_type": "stream",
     "text": [
      "Coefficients:\n",
      " Intercept    -55.328\n",
      "murder       176.375\n",
      "rape_def_2    86.634\n",
      "population     0.022\n",
      "dtype: float64\n",
      "\n",
      "P-values:\n",
      " Intercept    0.022\n",
      "murder       0.004\n",
      "rape_def_2   0.035\n",
      "population   0.000\n",
      "dtype: float64\n",
      "\n",
      "R-squared:\n",
      " 0.7116312129411613\n"
     ]
    }
   ],
   "source": [
    "linear_formula = 'property_crime ~ murder+rape_def_2+population'\n",
    "lm = smf.ols(formula=linear_formula, data=df2).fit()\n",
    "\n",
    "print('Coefficients:\\n', lm.params)\n",
    "print('\\nP-values:\\n', lm.pvalues)\n",
    "print('\\nR-squared:\\n', lm.rsquared)"
   ]
  },
  {
   "cell_type": "code",
   "execution_count": null,
   "metadata": {},
   "outputs": [],
   "source": []
  }
 ],
 "metadata": {
  "kernelspec": {
   "display_name": "Python 3",
   "language": "python",
   "name": "python3"
  },
  "language_info": {
   "codemirror_mode": {
    "name": "ipython",
    "version": 3
   },
   "file_extension": ".py",
   "mimetype": "text/x-python",
   "name": "python",
   "nbconvert_exporter": "python",
   "pygments_lexer": "ipython3",
   "version": "3.6.4"
  }
 },
 "nbformat": 4,
 "nbformat_minor": 2
}
