{
 "cells": [
  {
   "cell_type": "code",
   "execution_count": 1,
   "metadata": {},
   "outputs": [],
   "source": [
    "import numpy as np\n",
    "import pandas as pd\n",
    "import matplotlib.pyplot as plt\n",
    "import scipy\n",
    "%matplotlib inline"
   ]
  },
  {
   "cell_type": "markdown",
   "metadata": {},
   "source": [
    "## Nearest Neighbor\n",
    "\n",
    "Similarity - look for the datapoints that are most similar to the observation we are trying to predict"
   ]
  },
  {
   "cell_type": "code",
   "execution_count": 2,
   "metadata": {},
   "outputs": [
    {
     "data": {
      "image/png": "[encoded data removed]",
      "text/plain": [
       "<matplotlib.figure.Figure at 0x110fa3780>"
      ]
     },
     "metadata": {},
     "output_type": "display_data"
    }
   ],
   "source": [
    "music = pd.DataFrame()\n",
    "\n",
    "#add data\n",
    "music['duration'] = [184, 134, 243, 186, 122, 197, 294, 382, 102, 264, \n",
    "                     205, 110, 307, 110, 397, 153, 190, 192, 210, 403,\n",
    "                     164, 198, 204, 253, 234, 190, 182, 401, 376, 102]\n",
    "music['loudness'] = [18, 34, 43, 36, 22, 9, 29, 22, 10, 24, \n",
    "                     20, 10, 17, 51, 7, 13, 19, 12, 21, 22,\n",
    "                     16, 18, 4, 23, 34, 19, 14, 11, 37, 42]\n",
    "\n",
    "#it is known whether songs in training data are jazz or not\n",
    "music['jazz'] = [ 1, 0, 0, 0, 1, 1, 0, 1, 1, 0,\n",
    "                  0, 1, 1, 0, 1, 1, 0, 1, 1, 1,\n",
    "                  1, 1, 1, 1, 0, 0, 1, 1, 0, 0]\n",
    "\n",
    "#visualize data\n",
    "plt.scatter(music[music['jazz'] == 1].duration,\n",
    "            music[music['jazz'] == 1].loudness,\n",
    "            color='red')\n",
    "plt.scatter(music[music['jazz'] == 0].duration,\n",
    "            music[music['jazz'] == 0].loudness,\n",
    "            color='blue')\n",
    "plt.legend(['Jazz','Rock'])\n",
    "plt.title('Jazz and Rock Characteristics')\n",
    "plt.xlabel('Duration')\n",
    "plt.ylabel('Loudness')\n",
    "plt.show()"
   ]
  },
  {
   "cell_type": "markdown",
   "metadata": {},
   "source": [
    "Use distance to find nearest observation, typically Euclidean distance (standard distance measure used in geometry)"
   ]
  },
  {
   "cell_type": "code",
   "execution_count": 3,
   "metadata": {},
   "outputs": [
    {
     "data": {
      "text/plain": [
       "array([0])"
      ]
     },
     "execution_count": 3,
     "metadata": {},
     "output_type": "execute_result"
    }
   ],
   "source": [
    "from sklearn.neighbors import KNeighborsClassifier\n",
    "neighbors = KNeighborsClassifier(n_neighbors=1)\n",
    "X = music[['loudness','duration']]\n",
    "Y = music.jazz\n",
    "neighbors.fit(X,Y)\n",
    "\n",
    "#predict for a 190 second long song with 24 loudness\n",
    "neighbors.predict([[24,190]])"
   ]
  },
  {
   "cell_type": "markdown",
   "metadata": {},
   "source": [
    "Model predicts that the song is not jazz"
   ]
  },
  {
   "cell_type": "markdown",
   "metadata": {},
   "source": [
    "## K-Nearest Neighbors (KNN)\n",
    "\n",
    "Looks at several of the nearest neighbors instead of just the single nearest datapoint\n",
    "\n",
    "k = the number of neighbors to look at, each of the k neighbors gets to \"vote\" on the predicted outcome\n",
    "\n",
    "__Advantages:__\n",
    "\n",
    "- Smooths out predictions; if only one neighbor is predicting outcomes, model overfits to training data where outliers can create pockets of one category prediction surrounded by many datapoints of another category\n",
    "\n",
    "- Gets implicit probabilities instead of only predicting classes; probability for class i is votes(i) / k\n",
    "\n",
    "- Can accommodate many different classes, prediction takes the class for which probability fraction is maximized"
   ]
  },
  {
   "cell_type": "code",
   "execution_count": 4,
   "metadata": {},
   "outputs": [
    {
     "name": "stdout",
     "output_type": "stream",
     "text": [
      "[1]\n",
      "[[0.4 0.6]]\n"
     ]
    }
   ],
   "source": [
    "neighbors = KNeighborsClassifier(n_neighbors=5)\n",
    "X = music[['loudness','duration']]\n",
    "Y = music.jazz\n",
    "neighbors.fit(X,Y)\n",
    "\n",
    "#predict same song as before (24 loudness, 190 duration)\n",
    "print(neighbors.predict([[24,190]]))\n",
    "print(neighbors.predict_proba([[24,190]]))"
   ]
  },
  {
   "cell_type": "markdown",
   "metadata": {},
   "source": [
    "Model now predicts song is jazz, with 2 votes for rock and 3 votes for jazz. Closest observation was rock, but there are more jazz neighbors than rock neighbors\n",
    "\n",
    "__Mesh:__ visualize decision bounds, generates a prediction over the whole space"
   ]
  },
  {
   "cell_type": "code",
   "execution_count": 5,
   "metadata": {},
   "outputs": [
    {
     "data": {
      "image/png": "[encoded data removed]",
      "text/plain": [
       "<matplotlib.figure.Figure at 0x110fc9c50>"
      ]
     },
     "metadata": {},
     "output_type": "display_data"
    }
   ],
   "source": [
    "#convert from dataframes to arrays for the mesh\n",
    "X = np.array(X)\n",
    "Y = np.array(Y)\n",
    "\n",
    "#mesh size\n",
    "h = 4.0\n",
    "\n",
    "#plot decision boundary, assign color to each point in the mesh\n",
    "x_min = X[:,0].min() - .5\n",
    "x_max = X[:, 0].max () + .5\n",
    "y_min = X[:, 1].min() - .5\n",
    "y_max = X[:, 1].max() + .5\n",
    "xx, yy = np.meshgrid(np.arange(x_min, x_max, h),\n",
    "                     np.arange(y_min, y_max, h))\n",
    "Z = neighbors.predict(np.c_[xx.ravel(), yy.ravel()])\n",
    "\n",
    "#put result in a color plot\n",
    "Z = Z.reshape(xx.shape)\n",
    "plt.figure(1, figsize=(6,4))\n",
    "plt.set_cmap(plt.cm.Paired)\n",
    "plt.pcolormesh(xx, yy, Z)\n",
    "\n",
    "#add training points to plot\n",
    "plt.scatter(X[:,0], X[:, 1], c=Y)\n",
    "plt.xlabel('Loudness')\n",
    "plt.ylabel('Duration')\n",
    "plt.title('Mesh Visualization, h = 4.0')\n",
    "\n",
    "plt.xlim(xx.min(), xx.max())\n",
    "plt.ylim(yy.min(), yy.max())\n",
    "\n",
    "plt.show()"
   ]
  },
  {
   "cell_type": "markdown",
   "metadata": {},
   "source": [
    "- Any new point falling in the blue area would be predicted as jazz, brown area as rock.\n",
    "\n",
    "- Visualization is not completely continuous; mesh size of 4 (h = 4.0) calculates the value for each point where points are spaced 4.0 away from each other. Smaller mesh size results in a more continuous visualization at the cost of system resources, higher mesh behaves opposite\n",
    "\n",
    "__Drill:__ Set mesh size to 10, then reduce to what feels like a good compromise between continuous and computational demand."
   ]
  },
  {
   "cell_type": "code",
   "execution_count": 6,
   "metadata": {},
   "outputs": [
    {
     "data": {
      "image/png": "[encoded data removed]",
      "text/plain": [
       "<matplotlib.figure.Figure at 0x117e18d30>"
      ]
     },
     "metadata": {},
     "output_type": "display_data"
    }
   ],
   "source": [
    "#mesh size\n",
    "h = 10.0\n",
    "\n",
    "#plot decision boundary, assign color to each point in the mesh\n",
    "x_min = X[:,0].min() - .5\n",
    "x_max = X[:, 0].max () + .5\n",
    "y_min = X[:, 1].min() - .5\n",
    "y_max = X[:, 1].max() + .5\n",
    "xx, yy = np.meshgrid(np.arange(x_min, x_max, h),\n",
    "                     np.arange(y_min, y_max, h))\n",
    "Z = neighbors.predict(np.c_[xx.ravel(), yy.ravel()])\n",
    "\n",
    "#put result in a color plot\n",
    "Z = Z.reshape(xx.shape)\n",
    "plt.figure(1, figsize=(6,4))\n",
    "plt.set_cmap(plt.cm.Paired)\n",
    "plt.pcolormesh(xx, yy, Z)\n",
    "\n",
    "#add training points to plot\n",
    "plt.scatter(X[:,0], X[:, 1], c=Y)\n",
    "plt.xlabel('Loudness')\n",
    "plt.ylabel('Duration')\n",
    "plt.title('Mesh Visualization, h = 10.0')\n",
    "\n",
    "plt.xlim(xx.min(), xx.max())\n",
    "plt.ylim(yy.min(), yy.max())\n",
    "\n",
    "plt.show()"
   ]
  },
  {
   "cell_type": "code",
   "execution_count": 7,
   "metadata": {},
   "outputs": [
    {
     "data": {
      "image/png": "[encoded data removed]",
      "text/plain": [
       "<matplotlib.figure.Figure at 0x117e9f4e0>"
      ]
     },
     "metadata": {},
     "output_type": "display_data"
    }
   ],
   "source": [
    "#mesh size\n",
    "h = .1\n",
    "\n",
    "#plot decision boundary, assign color to each point in the mesh\n",
    "x_min = X[:,0].min() - .5\n",
    "x_max = X[:, 0].max () + .5\n",
    "y_min = X[:, 1].min() - .5\n",
    "y_max = X[:, 1].max() + .5\n",
    "xx, yy = np.meshgrid(np.arange(x_min, x_max, h),\n",
    "                     np.arange(y_min, y_max, h))\n",
    "Z = neighbors.predict(np.c_[xx.ravel(), yy.ravel()])\n",
    "\n",
    "#put result in a color plot\n",
    "Z = Z.reshape(xx.shape)\n",
    "plt.figure(1, figsize=(6,4))\n",
    "plt.set_cmap(plt.cm.Paired)\n",
    "plt.pcolormesh(xx, yy, Z)\n",
    "\n",
    "#add training points to plot\n",
    "plt.scatter(X[:,0], X[:, 1], c=Y)\n",
    "plt.xlabel('Loudness')\n",
    "plt.ylabel('Duration')\n",
    "plt.title('Mesh Visualization, h = .1')\n",
    "\n",
    "plt.xlim(xx.min(), xx.max())\n",
    "plt.ylim(yy.min(), yy.max())\n",
    "\n",
    "plt.show()"
   ]
  },
  {
   "cell_type": "markdown",
   "metadata": {},
   "source": [
    "__When do you get a visualization that looks acceptably continuous?__ looks continuous around h = 1\n",
    "\n",
    "__When do you start to get a noticeable delay?__ noticeable delay at h = .1 (about 3 seconds to render)"
   ]
  },
  {
   "cell_type": "markdown",
   "metadata": {},
   "source": [
    "## Challenge: Implement the Nearest Neighbor algorithm\n",
    "\n",
    "Using the music dataset, build a nearest neighbor algorithm from scratch. Test against the SKLearn package"
   ]
  },
  {
   "cell_type": "code",
   "execution_count": 41,
   "metadata": {},
   "outputs": [
    {
     "data": {
      "text/html": [
       "<div>\n",
       "<style scoped>\n",
       "    .dataframe tbody tr th:only-of-type {\n",
       "        vertical-align: middle;\n",
       "    }\n",
       "\n",
       "    .dataframe tbody tr th {\n",
       "        vertical-align: top;\n",
       "    }\n",
       "\n",
       "    .dataframe thead th {\n",
       "        text-align: right;\n",
       "    }\n",
       "</style>\n",
       "<table border=\"1\" class=\"dataframe\">\n",
       "  <thead>\n",
       "    <tr style=\"text-align: right;\">\n",
       "      <th></th>\n",
       "      <th>duration</th>\n",
       "      <th>loudness</th>\n",
       "      <th>jazz</th>\n",
       "    </tr>\n",
       "  </thead>\n",
       "  <tbody>\n",
       "    <tr>\n",
       "      <th>0</th>\n",
       "      <td>184</td>\n",
       "      <td>18</td>\n",
       "      <td>1</td>\n",
       "    </tr>\n",
       "    <tr>\n",
       "      <th>1</th>\n",
       "      <td>134</td>\n",
       "      <td>34</td>\n",
       "      <td>0</td>\n",
       "    </tr>\n",
       "    <tr>\n",
       "      <th>2</th>\n",
       "      <td>243</td>\n",
       "      <td>43</td>\n",
       "      <td>0</td>\n",
       "    </tr>\n",
       "    <tr>\n",
       "      <th>3</th>\n",
       "      <td>186</td>\n",
       "      <td>36</td>\n",
       "      <td>0</td>\n",
       "    </tr>\n",
       "    <tr>\n",
       "      <th>4</th>\n",
       "      <td>122</td>\n",
       "      <td>22</td>\n",
       "      <td>1</td>\n",
       "    </tr>\n",
       "  </tbody>\n",
       "</table>\n",
       "</div>"
      ],
      "text/plain": [
       "   duration  loudness  jazz\n",
       "0       184        18     1\n",
       "1       134        34     0\n",
       "2       243        43     0\n",
       "3       186        36     0\n",
       "4       122        22     1"
      ]
     },
     "execution_count": 41,
     "metadata": {},
     "output_type": "execute_result"
    }
   ],
   "source": [
    "music = pd.DataFrame()\n",
    "\n",
    "music['duration'] = [184, 134, 243, 186, 122, 197, 294, 382, 102, 264, \n",
    "                     205, 110, 307, 110, 397, 153, 190, 192, 210, 403,\n",
    "                     164, 198, 204, 253, 234, 190, 182, 401, 376, 102]\n",
    "music['loudness'] = [18, 34, 43, 36, 22, 9, 29, 22, 10, 24, \n",
    "                     20, 10, 17, 51, 7, 13, 19, 12, 21, 22,\n",
    "                     16, 18, 4, 23, 34, 19, 14, 11, 37, 42]\n",
    "\n",
    "music['jazz'] = [ 1, 0, 0, 0, 1, 1, 0, 1, 1, 0,\n",
    "                  0, 1, 1, 0, 1, 1, 0, 1, 1, 1,\n",
    "                  1, 1, 1, 1, 0, 0, 1, 1, 0, 0]\n",
    "music.head()"
   ]
  },
  {
   "cell_type": "code",
   "execution_count": 9,
   "metadata": {},
   "outputs": [],
   "source": [
    "#not sure why this returns type error\n",
    "\n",
    "#import math\n",
    "#\n",
    "#def distance(duration, loudness):\n",
    "#    distance_sq = 0\n",
    "#    for i in range(len()):\n",
    "#        distance_sq += (duration[i] - loudness[i])**2\n",
    "#    return sqrt(distance_sq)"
   ]
  },
  {
   "cell_type": "code",
   "execution_count": 44,
   "metadata": {},
   "outputs": [
    {
     "name": "stdout",
     "output_type": "stream",
     "text": [
      "ModeResult(mode=array([1]), count=array([3]))\n"
     ]
    }
   ],
   "source": [
    "#redefine X and Y out of their arrays used in mesh\n",
    "X = music[['loudness','duration']]\n",
    "Y = music.jazz\n",
    "\n",
    "#point we want to test\n",
    "test = [[24,190]]\n",
    "\n",
    "#write function to calculate distance\n",
    "def euclidean_distance(test, X):\n",
    "    '''\n",
    "    Returns list of euclidean distances\n",
    "    between test point and training data\n",
    "    '''\n",
    "    distance = []\n",
    "    for i in range(len(test)): #loop test through data X\n",
    "        distance.append(np.sqrt(np.sum(np.square(test[i] - X), axis=1))) #distance formula\n",
    "    return distance\n",
    "\n",
    "#print(euclidean_distance(test, X))\n",
    "\n",
    "#write function to get k neighbors' votes\n",
    "\n",
    "def neighbors_votes(X, test, k):\n",
    "    '''\n",
    "    Returns votes for shortest k euclidean distances\n",
    "    '''\n",
    "    distance_sort = np.argsort(euclidean_distance(test, X)) #sort distance indices ascending\n",
    "    distance_k = [] #empty list to put index of closest k distance indices\n",
    "    for n in range(k): #loop through sorted dist to get lowest k indices\n",
    "        distance_k = distance_sort[:,:k] \n",
    "        for i in distance_k:\n",
    "            votes = [] #empty list to put votes into\n",
    "            votes.append(music['jazz'].iloc[i])\n",
    "    return(votes)\n",
    "\n",
    "#print(neighbors_votes(X, test, 5))\n",
    "\n",
    "#write function to classify with knn\n",
    "\n",
    "def knn_classifier(X, test, k):\n",
    "    '''\n",
    "    Returns classification based on mode of votes\n",
    "    Mode array = classification\n",
    "    count array = number of votes\n",
    "    '''\n",
    "    prediction = scipy.stats.mode(neighbors_votes(X, test, k), axis=None)\n",
    "    return prediction\n",
    "\n",
    "print(knn_classifier(X,test,5))"
   ]
  },
  {
   "cell_type": "code",
   "execution_count": null,
   "metadata": {},
   "outputs": [],
   "source": []
  }
 ],
 "metadata": {
  "kernelspec": {
   "display_name": "Python 3",
   "language": "python",
   "name": "python3"
  },
  "language_info": {
   "codemirror_mode": {
    "name": "ipython",
    "version": 3
   },
   "file_extension": ".py",
   "mimetype": "text/x-python",
   "name": "python",
   "nbconvert_exporter": "python",
   "pygments_lexer": "ipython3",
   "version": "3.6.4"
  }
 },
 "nbformat": 4,
 "nbformat_minor": 2
}
