{
 "cells": [
  {
   "cell_type": "code",
   "execution_count": 1,
   "metadata": {},
   "outputs": [],
   "source": [
    "import numpy as np\n",
    "import pandas as pd\n",
    "import scipy\n",
    "import matplotlib.pyplot as plt\n",
    "import seaborn as sns\n",
    "%matplotlib inline\n",
    "sns.set_style('whitegrid')\n",
    "\n",
    "import time"
   ]
  },
  {
   "cell_type": "markdown",
   "metadata": {},
   "source": [
    "## Guided Example\n",
    "\n",
    "__Goal:__ Predict a recipe's rating from ingredient and keyword list\n",
    "\n",
    "__Dataset:__ [Epicurious Recipes](https://www.kaggle.com/hugodarwood/epirecipes)"
   ]
  },
  {
   "cell_type": "code",
   "execution_count": 2,
   "metadata": {},
   "outputs": [],
   "source": [
    "raw_data = pd.read_csv('epi_r.csv')"
   ]
  },
  {
   "cell_type": "code",
   "execution_count": 3,
   "metadata": {},
   "outputs": [
    {
     "data": {
      "text/plain": [
       "count    20052.000000\n",
       "mean         3.714467\n",
       "std          1.340829\n",
       "min          0.000000\n",
       "25%          3.750000\n",
       "50%          4.375000\n",
       "75%          4.375000\n",
       "max          5.000000\n",
       "Name: rating, dtype: float64"
      ]
     },
     "execution_count": 3,
     "metadata": {},
     "output_type": "execute_result"
    }
   ],
   "source": [
    "#list(raw_data.columns)\n",
    "raw_data.rating.describe()"
   ]
  },
  {
   "cell_type": "code",
   "execution_count": 4,
   "metadata": {},
   "outputs": [
    {
     "data": {
      "image/png": "[encoded data removed]",
      "text/plain": [
       "<matplotlib.figure.Figure at 0x1a0d1db6d8>"
      ]
     },
     "metadata": {},
     "output_type": "display_data"
    }
   ],
   "source": [
    "raw_data.rating.hist(bins=20)\n",
    "plt.title('Histogram of Recipe Ratings')\n",
    "plt.show()"
   ]
  },
  {
   "cell_type": "markdown",
   "metadata": {},
   "source": [
    "__Result:__ \n",
    "- There are ~20,000 recipes with an average rating of 3.71\n",
    "- 25th percentile is above the mean; likely outlier population (very low reviews on bad recipes)\n",
    "- Data is not continuous, no recipe has a 3.5 rating\n",
    "- Increase of count at 0 rating"
   ]
  },
  {
   "cell_type": "code",
   "execution_count": 5,
   "metadata": {},
   "outputs": [
    {
     "data": {
      "text/plain": [
       "calories    4117\n",
       "protein     4162\n",
       "fat         4183\n",
       "sodium      4119\n",
       "dtype: int64"
      ]
     },
     "execution_count": 5,
     "metadata": {},
     "output_type": "execute_result"
    }
   ],
   "source": [
    "#data cleaning\n",
    "#count nulls\n",
    "null_count = raw_data.isnull().sum()\n",
    "null_count[null_count>0]"
   ]
  },
  {
   "cell_type": "code",
   "execution_count": 6,
   "metadata": {},
   "outputs": [
    {
     "name": "stdout",
     "output_type": "stream",
     "text": [
      "\n",
      "runtime:\n",
      " 303.601349 seconds\n"
     ]
    }
   ],
   "source": [
    "#lots of missing nutrition info, drop these columns\n",
    "from sklearn.svm import SVR\n",
    "svr = SVR()\n",
    "X = raw_data.drop(['rating','title','calories','protein','fat','sodium'], 1)\n",
    "Y = raw_data.rating\n",
    "\n",
    "#uncomment below to run svm (might take a while)\n",
    "start_time = time.clock()\n",
    "svr.fit(X,Y)\n",
    "print('\\nruntime:\\n',time.clock() - start_time, \"seconds\")"
   ]
  },
  {
   "cell_type": "code",
   "execution_count": 7,
   "metadata": {},
   "outputs": [
    {
     "data": {
      "image/png": "[encoded data removed]",
      "text/plain": [
       "<matplotlib.figure.Figure at 0x1072af198>"
      ]
     },
     "metadata": {},
     "output_type": "display_data"
    },
    {
     "name": "stdout",
     "output_type": "stream",
     "text": [
      "\n",
      "runtime:\n",
      " 297.26082199999996 seconds\n"
     ]
    }
   ],
   "source": [
    "#uncomment below to run svm (might take a while)\n",
    "start_time = time.clock()\n",
    "plt.scatter(Y, svr.predict(X))\n",
    "plt.show()\n",
    "print('\\nruntime:\\n',time.clock() - start_time, \"seconds\")"
   ]
  },
  {
   "cell_type": "code",
   "execution_count": 8,
   "metadata": {},
   "outputs": [
    {
     "name": "stdout",
     "output_type": "stream",
     "text": [
      "0.03856570651298896\n",
      "\n",
      "runtime:\n",
      " 304.2036250000001 seconds\n"
     ]
    }
   ],
   "source": [
    "#uncomment below to run svm (might take a while)\n",
    "start_time = time.clock()\n",
    "print(svr.score(X,Y))\n",
    "print('\\nruntime:\\n',time.clock() - start_time, \"seconds\")"
   ]
  },
  {
   "cell_type": "code",
   "execution_count": 9,
   "metadata": {},
   "outputs": [
    {
     "name": "stdout",
     "output_type": "stream",
     "text": [
      "[0.01818511 0.026411   0.03037705 0.01957949 0.02451197]\n",
      "\n",
      "runtime:\n",
      " 1216.1912419999999 seconds\n"
     ]
    }
   ],
   "source": [
    "from sklearn.model_selection import cross_val_score\n",
    "\n",
    "#uncomment below to run svm (might take a while)\n",
    "start_time = time.clock()\n",
    "print(cross_val_score(svr,X,Y,cv=5))\n",
    "print('\\nruntime:\\n',time.clock() - start_time, \"seconds\")"
   ]
  },
  {
   "cell_type": "markdown",
   "metadata": {},
   "source": [
    "__Results:__ these are not good results\n",
    "- Poor accuracy\n",
    "- Overfitting\n",
    "\n",
    "## Challenge\n",
    "- Transform this regression problem into a binary classifier\n",
    "- Clean up the feature set and cut down to 30 most valuable features"
   ]
  },
  {
   "cell_type": "markdown",
   "metadata": {},
   "source": [
    "### Baseline results to beat"
   ]
  },
  {
   "cell_type": "code",
   "execution_count": 10,
   "metadata": {},
   "outputs": [
    {
     "name": "stdout",
     "output_type": "stream",
     "text": [
      "score array:\n",
      " [0.01818511 0.026411   0.03037705 0.01957949 0.02451197]\n",
      "\n",
      "score array mean:\n",
      " 0.02381292426673918\n",
      "\n",
      "score array std dev:\n",
      " 0.004470362733536093\n",
      "\n",
      "runtime:\n",
      " 1234.3788949999998 seconds\n"
     ]
    }
   ],
   "source": [
    "#uncomment below to run svm (might take a while)\n",
    "start_time = time.clock()\n",
    "scores_svr = cross_val_score(svr,X,Y,cv=5)\n",
    "\n",
    "print('score array:\\n', scores_svr)\n",
    "print('\\nscore array mean:\\n', np.mean(scores_svr))\n",
    "print('\\nscore array std dev:\\n', np.std(scores_svr))\n",
    "print('\\nruntime:\\n',time.clock() - start_time, \"seconds\")"
   ]
  },
  {
   "cell_type": "code",
   "execution_count": 11,
   "metadata": {},
   "outputs": [],
   "source": [
    "#set new df to play with\n",
    "df = raw_data.drop(['calories','protein','fat','sodium'], 1)\n",
    "#df.head()"
   ]
  },
  {
   "cell_type": "markdown",
   "metadata": {},
   "source": [
    "### Transform rating variable to binary\n",
    "\n",
    "Split rating variable\n",
    "- high ratings: $rating>=4,=1$\n",
    "- all else: $rating<4,=0$"
   ]
  },
  {
   "cell_type": "code",
   "execution_count": 12,
   "metadata": {},
   "outputs": [
    {
     "data": {
      "text/plain": [
       "1    17928\n",
       "0     2124\n",
       "Name: rating, dtype: int64"
      ]
     },
     "execution_count": 12,
     "metadata": {},
     "output_type": "execute_result"
    }
   ],
   "source": [
    "#transform rating variable to binary\n",
    "# *** ONLY RUN THIS CELL ONCE ***\n",
    "df['rating'] = df['rating'].map(lambda x: 1 if x >= 2.5 else 0)\n",
    "df['rating'].value_counts()"
   ]
  },
  {
   "cell_type": "markdown",
   "metadata": {},
   "source": [
    "### Feature selection, first attempt\n",
    "See how simply selecting the 30 most commonly mentioned ingredients/keywords/phrases work as features"
   ]
  },
  {
   "cell_type": "code",
   "execution_count": 13,
   "metadata": {
    "scrolled": false
   },
   "outputs": [],
   "source": [
    "#get top 30 keywords by number of mentions\n",
    "top_keywords = df.drop(['rating','title'],1)\n",
    "top_keywords = top_keywords.apply(pd.Series.value_counts).transpose()\n",
    "top_keywords = top_keywords.reset_index()\n",
    "top_keywords.columns = ['keywords', '0', '1']\n",
    "top_keywords = top_keywords.sort_values(by='1', ascending=False)\n",
    "top_keywords = top_keywords.head(30)\n",
    "\n",
    "#put top keywords into list\n",
    "top_keys_list = list(top_keywords.keywords)"
   ]
  },
  {
   "cell_type": "code",
   "execution_count": 14,
   "metadata": {},
   "outputs": [
    {
     "name": "stdout",
     "output_type": "stream",
     "text": [
      "score array:\n",
      " [0.89404139 0.89404139 0.89404139 0.89401496 0.89423796]\n",
      "\n",
      "score array mean:\n",
      " 0.8940754171474323\n",
      "\n",
      "score array std dev:\n",
      " 8.191549234149359e-05\n",
      "\n",
      "runtime:\n",
      " 57.43781200000012 seconds\n"
     ]
    }
   ],
   "source": [
    "#fit vanilla svc (C=1, kernel='rbf)\n",
    "from sklearn.svm import SVC\n",
    "svc = SVC()\n",
    "X1 = df[top_keys_list]\n",
    "Y1 = df.rating\n",
    "\n",
    "#uncomment below to run svm (might take a while)\n",
    "start_time = time.clock()\n",
    "svc.fit(X1,Y1)\n",
    "scores_svc = cross_val_score(svc,X1,Y1,cv=5)\n",
    "\n",
    "print('score array:\\n', scores_svc)\n",
    "print('\\nscore array mean:\\n', np.mean(scores_svc))\n",
    "print('\\nscore array std dev:\\n', np.std(scores_svc))\n",
    "print('\\nruntime:\\n',time.clock() - start_time, \"seconds\")"
   ]
  },
  {
   "cell_type": "code",
   "execution_count": 15,
   "metadata": {},
   "outputs": [],
   "source": [
    "#try other c values and kernels\n",
    "from sklearn.model_selection import GridSearchCV\n",
    "\n",
    "params = [{'C': [0.01, 0.1, 1, 10], 'kernel':['linear']},\n",
    "          {'C': [0.01, 0.1, 1, 10], 'kernel':['poly']},\n",
    "          {'C': [0.01, 0.1, 1, 10], 'kernel':['rbf']},\n",
    "          {'C': [0.01, 0.1, 1, 10], 'kernel':['sigmoid']}]\n",
    "\n",
    "grid = GridSearchCV(estimator=svc, param_grid=params)\n",
    "\n",
    "#uncomment below to run svm (might take a while)\n",
    "start_time = time.clock()\n",
    "grid.fit(X1,Y1)\n",
    "print('\\nBest parameters:\\n', grid.best_params_)\n",
    "print('\\nBest score:\\n', grid.best_score_)\n",
    "print('\\nruntime:\\n',time.clock() - start_time, \"seconds\")"
   ]
  },
  {
   "cell_type": "code",
   "execution_count": 16,
   "metadata": {},
   "outputs": [
    {
     "name": "stdout",
     "output_type": "stream",
     "text": [
      "score array:\n",
      " [0.89404139 0.89404139 0.89404139 0.89401496 0.89423796]\n",
      "\n",
      "score array mean:\n",
      " 0.8940754171474323\n",
      "\n",
      "score array std dev:\n",
      " 8.191549234149359e-05\n",
      "\n",
      "runtime:\n",
      " 113.22913500000004 seconds\n"
     ]
    }
   ],
   "source": [
    "#best result was from default rbf kernel with c=10\n",
    "svc1 = SVC(C=10)\n",
    "\n",
    "#uncomment below to run svm (might take a while)\n",
    "start_time = time.clock()\n",
    "svc1.fit(X1,Y1)\n",
    "scores_svc1 = cross_val_score(svc1,X1,Y1,cv=5)\n",
    "\n",
    "print('score array:\\n', scores_svc1)\n",
    "print('\\nscore array mean:\\n', np.mean(scores_svc1))\n",
    "print('\\nscore array std dev:\\n', np.std(scores_svc1))\n",
    "print('\\nruntime:\\n',time.clock() - start_time, \"seconds\")"
   ]
  },
  {
   "cell_type": "markdown",
   "metadata": {},
   "source": [
    "__Result:__ Much improved (and much much faster) over the initial svr model, std dev is high and there is room to improve accuracy\n",
    "\n",
    "### Feature selection, second attempt\n",
    "\n",
    "__SelectKBest:__ Someone on slack mentioned this for feature selection, try it out here"
   ]
  },
  {
   "cell_type": "code",
   "execution_count": 17,
   "metadata": {},
   "outputs": [
    {
     "name": "stdout",
     "output_type": "stream",
     "text": [
      "score array:\n",
      " [0.90251808 0.90401396 0.90251808 0.90224439 0.9034672 ]\n",
      "\n",
      "score array mean:\n",
      " 0.9029523400043198\n",
      "\n",
      "score array std dev:\n",
      " 0.0006738673862570717\n",
      "\n",
      "runtime:\n",
      " 34.07910700000002 seconds\n"
     ]
    }
   ],
   "source": [
    "from sklearn.pipeline import make_pipeline\n",
    "from sklearn.feature_selection import SelectKBest, f_classif\n",
    "import warnings\n",
    "warnings.filterwarnings('ignore')\n",
    "\n",
    "#data & target\n",
    "X2 = df.drop(['title','rating'],1)\n",
    "Y2 = df.rating\n",
    "\n",
    "#use f val for kbest, fit SVC\n",
    "f_vals = SelectKBest(f_classif, k=30)\n",
    "svc2 = SVC()\n",
    "svc2_f = make_pipeline(f_vals, svc2)\n",
    "\n",
    "#uncomment below to run svm (might take a while)\n",
    "start_time = time.clock()\n",
    "svc2_f.fit(X2,Y2)\n",
    "scores_svc2 = cross_val_score(svc2_f,X2,Y2,cv=5)\n",
    "\n",
    "print('score array:\\n', scores_svc2)\n",
    "print('\\nscore array mean:\\n', np.mean(scores_svc2))\n",
    "print('\\nscore array std dev:\\n', np.std(scores_svc2))\n",
    "print('\\nruntime:\\n',time.clock() - start_time, \"seconds\")"
   ]
  },
  {
   "cell_type": "code",
   "execution_count": 18,
   "metadata": {},
   "outputs": [
    {
     "name": "stdout",
     "output_type": "stream",
     "text": [
      "['alcoholic', 'bake', 'bitters', 'bon appétit', 'brandy', 'chile pepper', 'cocktail', 'cocktail party', 'condiment', 'créme de cacao', 'drink', 'fall', 'fortified wine', 'gin', 'gourmet', 'harpercollins', 'house & garden', 'lime juice', 'liqueur', 'non-alcoholic', 'peanut free', 'pernod', 'quick & easy', 'rum', 'sauté', 'soy free', 'spirit', 'tree nut free', 'weelicious', 'winter']\n"
     ]
    }
   ],
   "source": [
    "#see what features are selected\n",
    "features = f_vals.get_support(indices=True)\n",
    "feature_names = list(X2.columns)\n",
    "features_kbest = []\n",
    "\n",
    "for feature in features:\n",
    "    features_kbest.append(feature_names[feature])\n",
    "\n",
    "print(features_kbest)"
   ]
  },
  {
   "cell_type": "code",
   "execution_count": 19,
   "metadata": {},
   "outputs": [
    {
     "name": "stdout",
     "output_type": "stream",
     "text": [
      "score array:\n",
      " [0.89852905 0.90102219 0.90027425 0.90099751 0.90097281]\n",
      "\n",
      "score array mean:\n",
      " 0.9003591594678925\n",
      "\n",
      "score array std dev:\n",
      " 0.000957098947632037\n",
      "\n",
      "runtime:\n",
      " 20.489469999999983 seconds\n"
     ]
    }
   ],
   "source": [
    "#try a linear kernel\n",
    "svc_linear = SVC(kernel='linear')\n",
    "svc_linear_f = make_pipeline(f_vals, svc_linear)\n",
    "\n",
    "#uncomment below to run svm (might take a while)\n",
    "start_time = time.clock()\n",
    "svc_linear_f.fit(X2,Y2)\n",
    "scores_svc_linear = cross_val_score(svc_linear_f,X2,Y2,cv=5)\n",
    "\n",
    "print('score array:\\n', scores_svc_linear)\n",
    "print('\\nscore array mean:\\n', np.mean(scores_svc_linear))\n",
    "print('\\nscore array std dev:\\n', np.std(scores_svc_linear))\n",
    "print('\\nruntime:\\n',time.clock() - start_time, \"seconds\")"
   ]
  },
  {
   "cell_type": "markdown",
   "metadata": {},
   "source": [
    "__Result:__ Slightly more accurate than first SVC, but much lower std dev and runs much quicker"
   ]
  },
  {
   "cell_type": "code",
   "execution_count": null,
   "metadata": {},
   "outputs": [],
   "source": []
  }
 ],
 "metadata": {
  "kernelspec": {
   "display_name": "Python 3",
   "language": "python",
   "name": "python3"
  },
  "language_info": {
   "codemirror_mode": {
    "name": "ipython",
    "version": 3
   },
   "file_extension": ".py",
   "mimetype": "text/x-python",
   "name": "python",
   "nbconvert_exporter": "python",
   "pygments_lexer": "ipython3",
   "version": "3.6.4"
  }
 },
 "nbformat": 4,
 "nbformat_minor": 2
}
