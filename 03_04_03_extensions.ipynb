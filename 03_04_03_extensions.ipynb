{
 "cells": [
  {
   "cell_type": "markdown",
   "metadata": {},
   "source": [
    "## Multiple Classes\n",
    "Methods to extend SVM to cover multiple classes instead of only binary\n",
    "\n",
    "__Hold-one-out:__\n",
    "- Simplest method\n",
    "- Form many binary classifiers\n",
    "- For each category create a binary classifier between having that category or any other outcome\n",
    "- Each has an output function to define its confidence\n",
    "- Highest output value decides class\n",
    "\n",
    "__Pairwise:__\n",
    "- Every category is compared to the others in pairs\n",
    "- Observation is categorized under every possible pair of outcomes\n",
    "- Outcome is assigned to the one that was most common"
   ]
  },
  {
   "cell_type": "markdown",
   "metadata": {},
   "source": [
    "## SVM as Regressor\n",
    "__Support Vector Regression (SVR):__\n",
    "- Operates like an inversion of classification\n",
    "- Interested only in values far away from prediction instead of points closest to boundary\n",
    "- __C:__ box constraint, tunable value that sets the penalty for being outside of the margin\n",
    "- __Epsilon:__ tunable value that sets the size of the margin\n",
    "- Optimize cost from observations being outside the margin\n",
    "- Advantage of SVM for regression: set the sensitivity when building the model, not just after the fact"
   ]
  },
  {
   "cell_type": "markdown",
   "metadata": {},
   "source": [
    "## Clustering\n",
    "Can be used as an unsupervised clustering algorithm"
   ]
  },
  {
   "cell_type": "markdown",
   "metadata": {},
   "source": [
    "## Why SVM?\n",
    "- Flexibility\n",
    "- Visual explanatory power (linear SVC)\n",
    "- Tremendous accuracy (kernel smoothing)\n",
    "- Clustering (SVClustering)\n",
    "- Ability to control specificity of training (SVR)\n",
    "- Can be very resource intensive when in high dimensions\n",
    "- Overall a very versatile modeling class"
   ]
  },
  {
   "cell_type": "code",
   "execution_count": null,
   "metadata": {},
   "outputs": [],
   "source": []
  }
 ],
 "metadata": {
  "kernelspec": {
   "display_name": "Python 3",
   "language": "python",
   "name": "python3"
  },
  "language_info": {
   "codemirror_mode": {
    "name": "ipython",
    "version": 3
   },
   "file_extension": ".py",
   "mimetype": "text/x-python",
   "name": "python",
   "nbconvert_exporter": "python",
   "pygments_lexer": "ipython3",
   "version": "3.6.4"
  }
 },
 "nbformat": 4,
 "nbformat_minor": 2
}
