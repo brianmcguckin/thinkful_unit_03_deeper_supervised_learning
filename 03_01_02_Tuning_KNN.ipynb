{
 "cells": [
  {
   "cell_type": "code",
   "execution_count": 3,
   "metadata": {},
   "outputs": [],
   "source": [
    "import numpy as np\n",
    "import pandas as pd\n",
    "import matplotlib.pyplot as plt\n",
    "import scipy\n",
    "%matplotlib inline\n",
    "\n",
    "music = pd.DataFrame()\n",
    "music['duration'] = [184, 134, 243, 186, 122, 197, 294, 382, 102, 264, \n",
    "                     205, 110, 307, 110, 397, 153, 190, 192, 210, 403,\n",
    "                     164, 198, 204, 253, 234, 190, 182, 401, 376, 102]\n",
    "music['loudness'] = [18, 34, 43, 36, 22, 9, 29, 22, 10, 24, \n",
    "                     20, 10, 17, 51, 7, 13, 19, 12, 21, 22,\n",
    "                     16, 18, 4, 23, 34, 19, 14, 11, 37, 42]\n",
    "music['jazz'] = [ 1, 0, 0, 0, 1, 1, 0, 1, 1, 0,\n",
    "                  0, 1, 1, 0, 1, 1, 0, 1, 1, 1,\n",
    "                  1, 1, 1, 1, 0, 0, 1, 1, 0, 0]"
   ]
  },
  {
   "cell_type": "markdown",
   "metadata": {},
   "source": [
    "## Distance and Normalizing\n",
    "\n",
    "In vanilla KNN, distance measurement assumes all units are equal, ie 1 loudness unit is equivalent to 1 second. This also makes it nearly impossible to include binary or categorical variables. Continuous variables work best, but are still problematic when their relative scales are very different (ie sq ft vs. floor)\n",
    "\n",
    "__Normalization:__ a way of making these measures comparable, there are 2 main techniques\n",
    "\n",
    "__1)__ Set data bounds to 0 and 1, rescale every variable within these bounds, works best when data shows a linear relationship with known limits to set to 0 and 1 for rescaling\n",
    "\n",
    "__2)__ Calculate how far each observation is from the mean expressed in number of standard deviations (z-scores), works best for continuous data and puts everything in terms of how far from the mean it is"
   ]
  },
  {
   "cell_type": "markdown",
   "metadata": {},
   "source": [
    "## Weighting\n",
    "\n",
    "In vanilla KNN, each vote counts the same regardless of distance from test point. Works fine with densely populated data but is problematic when k nearest observations are not all similarly close to the test. Weight by the inverse of the distance so closer observations have a higher weight than further ones."
   ]
  },
  {
   "cell_type": "code",
   "execution_count": 4,
   "metadata": {},
   "outputs": [
    {
     "data": {
      "image/png": "[encoded data removed]",
      "text/plain": [
       "<matplotlib.figure.Figure at 0x10c7f39e8>"
      ]
     },
     "metadata": {},
     "output_type": "display_data"
    }
   ],
   "source": [
    "from sklearn.neighbors import KNeighborsClassifier\n",
    "from scipy import stats\n",
    "\n",
    "neighbors = KNeighborsClassifier(n_neighbors=5,weights='distance')\n",
    "\n",
    "#input date frame will be z-scores instead of raw data\n",
    "X = pd.DataFrame({'loudness': stats.zscore(music.loudness),\n",
    "                  'duration': stats.zscore(music.duration)})\n",
    "\n",
    "#fit model\n",
    "Y = music.jazz\n",
    "neighbors.fit(X,Y)\n",
    "\n",
    "#arrays (not dfs) for mesh\n",
    "X = np.array(X)\n",
    "Y = np.array(Y)\n",
    "\n",
    "#mesh size\n",
    "h = .01\n",
    "\n",
    "#plot decision boundary, assign color to each point in mesh\n",
    "x_min = X[:,0].min() - .5\n",
    "x_max = X[:,0].max() + .5\n",
    "y_min = X[:,1].min() - .5\n",
    "y_max = X[:,1].max() + .5\n",
    "xx, yy = np.meshgrid(np.arange(x_min, x_max, h),\n",
    "                     np.arange(y_min, y_max, h))\n",
    "\n",
    "Z = neighbors.predict(np.c_[xx.ravel(), yy.ravel()])\n",
    "\n",
    "#put result in plot\n",
    "Z = Z.reshape(xx.shape)\n",
    "plt.figure(1,figsize=(6,4))\n",
    "plt.set_cmap(plt.cm.Paired)\n",
    "plt.pcolormesh(xx, yy, Z)\n",
    "\n",
    "#add training points to the plot\n",
    "plt.scatter(X[:,0], X[:,1], c=Y)\n",
    "plt.xlabel('Loudness')\n",
    "plt.ylabel('Duration')\n",
    "\n",
    "plt.xlim(xx.min(), xx.max())\n",
    "plt.ylim(yy.min(), yy.max())\n",
    "\n",
    "plt.show()"
   ]
  },
  {
   "cell_type": "markdown",
   "metadata": {},
   "source": [
    "__Result:__ more nuanced but relatively continuous and consistent decision boundary"
   ]
  },
  {
   "cell_type": "markdown",
   "metadata": {},
   "source": [
    "## Choosing k\n",
    "\n",
    "What is chosen for k is largely up to the data scientist\n",
    "\n",
    "- Larger k: more smoothed out decision space due to more observations getting a vote\n",
    "\n",
    "- Smaller k: pick up more subtle deviations, but deviations could just be randomness and result in overfitting\n",
    "\n",
    "Best technique is to try multiple models and use validation techniques to compare performance. K-fold cross validation is useful for this"
   ]
  },
  {
   "cell_type": "markdown",
   "metadata": {},
   "source": [
    "## Drill\n",
    "\n",
    "Let's say we work at a credit card company and we're trying to figure out if people are going to pay their bills on time. We have everyone's purchases, split into four main categories: groceries, dining out, utilities, and entertainment.\n",
    "\n",
    "__1)__ What are some ways you might use KNN to create this model?\n",
    "\n",
    "Assuming we also have data available regarding late payments (eg 0 if on time, 1 if late), we could plot categories against one another and to see their relationship between spending an paying. For example, plotting dining out and entertainment together could reveal that the more spent on pleasure indicates a likelihood to either pay on time (more disposable income) or to pay late (more reckless with money). This could also uncover similarities between categories that we could PCA into single features\n",
    "\n",
    "__2)__ What aspects of KNN would be useful?\n",
    "\n",
    "Multiple class handling of KNN would be useful, it may make sense to expand our payment class from on-time and late to a more nuanced group, such as on time, under 5 days late (eg. weekend, holiday pushes bank remittance back slightly), within grace period (as CC's often give), and what are truly late payments (>grace period) and even likelihood customers will end up defaulting.\n",
    "\n",
    "Using weighted distances would be necessary as spending varies wildly across all customers, however this is unlikely to translate to predicting payments."
   ]
  },
  {
   "cell_type": "code",
   "execution_count": null,
   "metadata": {},
   "outputs": [],
   "source": []
  }
 ],
 "metadata": {
  "kernelspec": {
   "display_name": "Python 3",
   "language": "python",
   "name": "python3"
  },
  "language_info": {
   "codemirror_mode": {
    "name": "ipython",
    "version": 3
   },
   "file_extension": ".py",
   "mimetype": "text/x-python",
   "name": "python",
   "nbconvert_exporter": "python",
   "pygments_lexer": "ipython3",
   "version": "3.6.4"
  }
 },
 "nbformat": 4,
 "nbformat_minor": 2
}
