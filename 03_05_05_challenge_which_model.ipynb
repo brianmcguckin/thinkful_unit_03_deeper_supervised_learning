{
 "cells": [
  {
   "cell_type": "markdown",
   "metadata": {},
   "source": [
    "Go through the list of problems below. For each, identify which supervised learning method(s) would be best for addressing that particular problem & explain your reasoning"
   ]
  },
  {
   "cell_type": "markdown",
   "metadata": {},
   "source": [
    "__1) Predict the running times of prospective Olympic sprinters using data from the last 20 Olympics.__\n",
    "\n",
    "Regression model, random forest or logistic"
   ]
  },
  {
   "cell_type": "markdown",
   "metadata": {},
   "source": [
    "__2) You have more features (columns) than rows in your dataset.__\n",
    "\n",
    "Lasso regression for its feature selection and overfitting protection with limited data"
   ]
  },
  {
   "cell_type": "markdown",
   "metadata": {},
   "source": [
    "__3) Identify the most important characteristic predicting likelihood of being jailed before age 20.__\n",
    "\n",
    "Gradient boost classifier to get feature importance"
   ]
  },
  {
   "cell_type": "markdown",
   "metadata": {},
   "source": [
    "__4) Implement a filter to “highlight” emails that might be important to the recipient__\n",
    "\n",
    "KNN or SVM, using proximity to known points to classify new ones"
   ]
  },
  {
   "cell_type": "markdown",
   "metadata": {},
   "source": [
    "__5) You have 1000+ features.__\n",
    "\n",
    "Lasso regr or gradient boost to help with feature selection"
   ]
  },
  {
   "cell_type": "markdown",
   "metadata": {},
   "source": [
    "__6) Predict whether someone who adds items to their cart on a website will purchase the items.__\n",
    "\n",
    "Decision tree based ensemble model, random forest classifier or gradient boost classifier"
   ]
  },
  {
   "cell_type": "markdown",
   "metadata": {},
   "source": [
    "__7) Your dataset dimensions are 982400 x 500.__\n",
    "\n",
    "Lasso regr or gradient boost to select features"
   ]
  },
  {
   "cell_type": "markdown",
   "metadata": {},
   "source": [
    "__8) Identify faces in an image.__\n",
    "\n",
    "Logistic regression, to see probability for which classes model thinks image might be"
   ]
  },
  {
   "cell_type": "markdown",
   "metadata": {},
   "source": [
    "__9) Predict which of three flavors of ice cream will be most popular with boys vs girls.__\n",
    "\n",
    "KNN or SVM, same as 4"
   ]
  },
  {
   "cell_type": "code",
   "execution_count": null,
   "metadata": {},
   "outputs": [],
   "source": []
  }
 ],
 "metadata": {
  "kernelspec": {
   "display_name": "Python 3",
   "language": "python",
   "name": "python3"
  },
  "language_info": {
   "codemirror_mode": {
    "name": "ipython",
    "version": 3
   },
   "file_extension": ".py",
   "mimetype": "text/x-python",
   "name": "python",
   "nbconvert_exporter": "python",
   "pygments_lexer": "ipython3",
   "version": "3.6.4"
  }
 },
 "nbformat": 4,
 "nbformat_minor": 2
}
