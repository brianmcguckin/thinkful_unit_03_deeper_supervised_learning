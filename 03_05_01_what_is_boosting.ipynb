{
 "cells": [
  {
   "cell_type": "markdown",
   "metadata": {},
   "source": [
    "## What is boosting?\n",
    "- __Boosting Models__ model the data over and over, each time adjusting the model based on what was learned from the previous one\n",
    "- Flexible: works for classification and regression, can be combined with many modeling approaches\n",
    "- Iterative: start with fitting a simple model on all the data, identify unexplained variance and build a new simple model to target that pool of information\n",
    "- Once stopping rule is reached, the combination of all models is used to make final predictions\n",
    "- Combines simple & computationally fast models to arrive at very accurate predictions"
   ]
  },
  {
   "cell_type": "markdown",
   "metadata": {},
   "source": [
    "__Boosting implementation:__\n",
    "- Simple model: use almost any model\n",
    "- Index of error: can use residuals from regression, classification, or any other cost function\n",
    "- Iteration: each iteration targets the error, can weight inaccurate predictions, directly model residuals, or model only the inaccurately predicted subset of data\n",
    "- Stopping rule: set stopping threshold at number of models, amount of variance explained, or change in weights between last two iterations"
   ]
  },
  {
   "cell_type": "code",
   "execution_count": null,
   "metadata": {},
   "outputs": [],
   "source": []
  }
 ],
 "metadata": {
  "kernelspec": {
   "display_name": "Python 3",
   "language": "python",
   "name": "python3"
  },
  "language_info": {
   "codemirror_mode": {
    "name": "ipython",
    "version": 3
   },
   "file_extension": ".py",
   "mimetype": "text/x-python",
   "name": "python",
   "nbconvert_exporter": "python",
   "pygments_lexer": "ipython3",
   "version": "3.6.4"
  }
 },
 "nbformat": 4,
 "nbformat_minor": 2
}
